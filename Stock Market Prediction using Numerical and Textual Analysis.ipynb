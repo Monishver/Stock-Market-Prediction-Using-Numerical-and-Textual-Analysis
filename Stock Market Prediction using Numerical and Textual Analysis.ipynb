{
 "cells": [
  {
   "cell_type": "markdown",
   "metadata": {},
   "source": [
    "**Author : VEDANT PATIL**\n",
    "\n",
    "Task 7__DEC'20\n",
    "\n",
    "**!!Stock Market Prediction using Numerical and Textual Analysis!!**\n",
    "\n",
    "MACHINE STATS :\n",
    "\n",
    "Intel i5 8th Gen ||12GB RAM || ON_BOARD 2GB RADEON GRAPHICS "
   ]
  },
  {
   "cell_type": "code",
   "execution_count": 474,
   "metadata": {},
   "outputs": [],
   "source": [
    "# Importing the libraries\n",
    "import numpy as np\n",
    "import matplotlib.pyplot as plt\n",
    "import pandas as pd\n",
    "import datetime"
   ]
  },
  {
   "cell_type": "code",
   "execution_count": 475,
   "metadata": {},
   "outputs": [],
   "source": [
    "data_stock = pd.read_csv('D:\\SPARKS FOUNDATION\\BSESN.csv')"
   ]
  },
  {
   "cell_type": "code",
   "execution_count": 476,
   "metadata": {},
   "outputs": [
    {
     "data": {
      "text/html": [
       "<div>\n",
       "<style scoped>\n",
       "    .dataframe tbody tr th:only-of-type {\n",
       "        vertical-align: middle;\n",
       "    }\n",
       "\n",
       "    .dataframe tbody tr th {\n",
       "        vertical-align: top;\n",
       "    }\n",
       "\n",
       "    .dataframe thead th {\n",
       "        text-align: right;\n",
       "    }\n",
       "</style>\n",
       "<table border=\"1\" class=\"dataframe\">\n",
       "  <thead>\n",
       "    <tr style=\"text-align: right;\">\n",
       "      <th></th>\n",
       "      <th>Date</th>\n",
       "      <th>Open</th>\n",
       "      <th>High</th>\n",
       "      <th>Low</th>\n",
       "      <th>Close</th>\n",
       "      <th>Adj Close</th>\n",
       "      <th>Volume</th>\n",
       "    </tr>\n",
       "  </thead>\n",
       "  <tbody>\n",
       "    <tr>\n",
       "      <th>0</th>\n",
       "      <td>02-01-2001</td>\n",
       "      <td>3953.219971</td>\n",
       "      <td>4028.570068</td>\n",
       "      <td>3929.370117</td>\n",
       "      <td>4018.879883</td>\n",
       "      <td>4018.879883</td>\n",
       "      <td>0.0</td>\n",
       "    </tr>\n",
       "    <tr>\n",
       "      <th>1</th>\n",
       "      <td>03-01-2001</td>\n",
       "      <td>3977.580078</td>\n",
       "      <td>4067.659912</td>\n",
       "      <td>3977.580078</td>\n",
       "      <td>4060.020020</td>\n",
       "      <td>4060.020020</td>\n",
       "      <td>0.0</td>\n",
       "    </tr>\n",
       "    <tr>\n",
       "      <th>2</th>\n",
       "      <td>04-01-2001</td>\n",
       "      <td>4180.970215</td>\n",
       "      <td>4180.970215</td>\n",
       "      <td>4109.549805</td>\n",
       "      <td>4115.370117</td>\n",
       "      <td>4115.370117</td>\n",
       "      <td>0.0</td>\n",
       "    </tr>\n",
       "    <tr>\n",
       "      <th>3</th>\n",
       "      <td>05-01-2001</td>\n",
       "      <td>4116.339844</td>\n",
       "      <td>4195.009766</td>\n",
       "      <td>4115.350098</td>\n",
       "      <td>4183.729980</td>\n",
       "      <td>4183.729980</td>\n",
       "      <td>0.0</td>\n",
       "    </tr>\n",
       "    <tr>\n",
       "      <th>4</th>\n",
       "      <td>08-01-2001</td>\n",
       "      <td>4164.759766</td>\n",
       "      <td>4206.720215</td>\n",
       "      <td>4101.529785</td>\n",
       "      <td>4120.430176</td>\n",
       "      <td>4120.430176</td>\n",
       "      <td>0.0</td>\n",
       "    </tr>\n",
       "  </tbody>\n",
       "</table>\n",
       "</div>"
      ],
      "text/plain": [
       "         Date         Open         High          Low        Close  \\\n",
       "0  02-01-2001  3953.219971  4028.570068  3929.370117  4018.879883   \n",
       "1  03-01-2001  3977.580078  4067.659912  3977.580078  4060.020020   \n",
       "2  04-01-2001  4180.970215  4180.970215  4109.549805  4115.370117   \n",
       "3  05-01-2001  4116.339844  4195.009766  4115.350098  4183.729980   \n",
       "4  08-01-2001  4164.759766  4206.720215  4101.529785  4120.430176   \n",
       "\n",
       "     Adj Close  Volume  \n",
       "0  4018.879883     0.0  \n",
       "1  4060.020020     0.0  \n",
       "2  4115.370117     0.0  \n",
       "3  4183.729980     0.0  \n",
       "4  4120.430176     0.0  "
      ]
     },
     "execution_count": 476,
     "metadata": {},
     "output_type": "execute_result"
    }
   ],
   "source": [
    "data_stock.head()"
   ]
  },
  {
   "cell_type": "code",
   "execution_count": 477,
   "metadata": {},
   "outputs": [
    {
     "data": {
      "text/html": [
       "<div>\n",
       "<style scoped>\n",
       "    .dataframe tbody tr th:only-of-type {\n",
       "        vertical-align: middle;\n",
       "    }\n",
       "\n",
       "    .dataframe tbody tr th {\n",
       "        vertical-align: top;\n",
       "    }\n",
       "\n",
       "    .dataframe thead th {\n",
       "        text-align: right;\n",
       "    }\n",
       "</style>\n",
       "<table border=\"1\" class=\"dataframe\">\n",
       "  <thead>\n",
       "    <tr style=\"text-align: right;\">\n",
       "      <th></th>\n",
       "      <th>Date</th>\n",
       "      <th>Open</th>\n",
       "      <th>High</th>\n",
       "      <th>Low</th>\n",
       "      <th>Close</th>\n",
       "      <th>Adj Close</th>\n",
       "      <th>Volume</th>\n",
       "    </tr>\n",
       "  </thead>\n",
       "  <tbody>\n",
       "    <tr>\n",
       "      <th>4978</th>\n",
       "      <td>03-12-2020</td>\n",
       "      <td>44902.01953</td>\n",
       "      <td>44953.01172</td>\n",
       "      <td>44551.42188</td>\n",
       "      <td>44632.64844</td>\n",
       "      <td>44632.64844</td>\n",
       "      <td>30700.0</td>\n",
       "    </tr>\n",
       "    <tr>\n",
       "      <th>4979</th>\n",
       "      <td>04-12-2020</td>\n",
       "      <td>44665.91016</td>\n",
       "      <td>45148.28125</td>\n",
       "      <td>44665.91016</td>\n",
       "      <td>45079.55078</td>\n",
       "      <td>45079.55078</td>\n",
       "      <td>27600.0</td>\n",
       "    </tr>\n",
       "    <tr>\n",
       "      <th>4980</th>\n",
       "      <td>07-12-2020</td>\n",
       "      <td>45099.92188</td>\n",
       "      <td>45458.92188</td>\n",
       "      <td>45024.46875</td>\n",
       "      <td>45426.96875</td>\n",
       "      <td>45426.96875</td>\n",
       "      <td>18700.0</td>\n",
       "    </tr>\n",
       "    <tr>\n",
       "      <th>4981</th>\n",
       "      <td>08-12-2020</td>\n",
       "      <td>45568.80078</td>\n",
       "      <td>45742.23047</td>\n",
       "      <td>45335.17188</td>\n",
       "      <td>45608.51172</td>\n",
       "      <td>45608.51172</td>\n",
       "      <td>18200.0</td>\n",
       "    </tr>\n",
       "    <tr>\n",
       "      <th>4982</th>\n",
       "      <td>09-12-2020</td>\n",
       "      <td>45891.03906</td>\n",
       "      <td>46164.10156</td>\n",
       "      <td>45792.01172</td>\n",
       "      <td>46103.50000</td>\n",
       "      <td>46103.50000</td>\n",
       "      <td>20700.0</td>\n",
       "    </tr>\n",
       "  </tbody>\n",
       "</table>\n",
       "</div>"
      ],
      "text/plain": [
       "            Date         Open         High          Low        Close  \\\n",
       "4978  03-12-2020  44902.01953  44953.01172  44551.42188  44632.64844   \n",
       "4979  04-12-2020  44665.91016  45148.28125  44665.91016  45079.55078   \n",
       "4980  07-12-2020  45099.92188  45458.92188  45024.46875  45426.96875   \n",
       "4981  08-12-2020  45568.80078  45742.23047  45335.17188  45608.51172   \n",
       "4982  09-12-2020  45891.03906  46164.10156  45792.01172  46103.50000   \n",
       "\n",
       "        Adj Close   Volume  \n",
       "4978  44632.64844  30700.0  \n",
       "4979  45079.55078  27600.0  \n",
       "4980  45426.96875  18700.0  \n",
       "4981  45608.51172  18200.0  \n",
       "4982  46103.50000  20700.0  "
      ]
     },
     "execution_count": 477,
     "metadata": {},
     "output_type": "execute_result"
    }
   ],
   "source": [
    "data_stock.tail()"
   ]
  },
  {
   "cell_type": "code",
   "execution_count": 478,
   "metadata": {},
   "outputs": [],
   "source": [
    "#Convert date column of the dataset using pandas library\n",
    "#data_stock['Date'] = pd.to_datetime(data_stock['Date'])"
   ]
  },
  {
   "cell_type": "code",
   "execution_count": 479,
   "metadata": {},
   "outputs": [],
   "source": [
    "# setting column 'Date' as the index column\n",
    "data_stock.set_index('Date', inplace= True)"
   ]
  },
  {
   "cell_type": "code",
   "execution_count": 480,
   "metadata": {},
   "outputs": [
    {
     "data": {
      "text/plain": [
       "Open         75\n",
       "High         75\n",
       "Low          75\n",
       "Close        75\n",
       "Adj Close    75\n",
       "Volume       75\n",
       "dtype: int64"
      ]
     },
     "execution_count": 480,
     "metadata": {},
     "output_type": "execute_result"
    }
   ],
   "source": [
    "#Check NULL values\n",
    "data_stock.isnull().sum()"
   ]
  },
  {
   "cell_type": "code",
   "execution_count": 481,
   "metadata": {},
   "outputs": [
    {
     "data": {
      "text/plain": [
       "(4983, 6)"
      ]
     },
     "execution_count": 481,
     "metadata": {},
     "output_type": "execute_result"
    }
   ],
   "source": [
    "data_stock.shape"
   ]
  },
  {
   "cell_type": "code",
   "execution_count": 482,
   "metadata": {},
   "outputs": [],
   "source": [
    "# Drop null values\n",
    "data_stock.dropna(inplace=True)"
   ]
  },
  {
   "cell_type": "code",
   "execution_count": 483,
   "metadata": {},
   "outputs": [
    {
     "data": {
      "text/plain": [
       "Open         0\n",
       "High         0\n",
       "Low          0\n",
       "Close        0\n",
       "Adj Close    0\n",
       "Volume       0\n",
       "dtype: int64"
      ]
     },
     "execution_count": 483,
     "metadata": {},
     "output_type": "execute_result"
    }
   ],
   "source": [
    "data_stock.isnull().sum()"
   ]
  },
  {
   "cell_type": "code",
   "execution_count": 484,
   "metadata": {},
   "outputs": [
    {
     "data": {
      "text/plain": [
       "(4908, 6)"
      ]
     },
     "execution_count": 484,
     "metadata": {},
     "output_type": "execute_result"
    }
   ],
   "source": [
    "data_stock.shape"
   ]
  },
  {
   "cell_type": "code",
   "execution_count": 485,
   "metadata": {},
   "outputs": [
    {
     "name": "stdout",
     "output_type": "stream",
     "text": [
      "<class 'pandas.core.frame.DataFrame'>\n",
      "Index: 4908 entries, 02-01-2001 to 09-12-2020\n",
      "Data columns (total 6 columns):\n",
      " #   Column     Non-Null Count  Dtype  \n",
      "---  ------     --------------  -----  \n",
      " 0   Open       4908 non-null   float64\n",
      " 1   High       4908 non-null   float64\n",
      " 2   Low        4908 non-null   float64\n",
      " 3   Close      4908 non-null   float64\n",
      " 4   Adj Close  4908 non-null   float64\n",
      " 5   Volume     4908 non-null   float64\n",
      "dtypes: float64(6)\n",
      "memory usage: 268.4+ KB\n"
     ]
    }
   ],
   "source": [
    "data_stock.info()"
   ]
  },
  {
   "cell_type": "code",
   "execution_count": 486,
   "metadata": {},
   "outputs": [
    {
     "data": {
      "text/plain": [
       "<AxesSubplot:xlabel='Date'>"
      ]
     },
     "execution_count": 486,
     "metadata": {},
     "output_type": "execute_result"
    },
    {
     "data": {
      "image/png": "[encoded data removed]",
      "text/plain": [
       "<Figure size 1152x432 with 1 Axes>"
      ]
     },
     "metadata": {
      "needs_background": "light"
     },
     "output_type": "display_data"
    }
   ],
   "source": [
    "#Visualization dataset columns\n",
    "data_stock['Open'].plot(figsize=(16,6))"
   ]
  },
  {
   "cell_type": "code",
   "execution_count": 487,
   "metadata": {},
   "outputs": [
    {
     "data": {
      "image/png": "[encoded data removed]",
      "text/plain": [
       "<Figure size 1080x432 with 1 Axes>"
      ]
     },
     "metadata": {
      "needs_background": "light"
     },
     "output_type": "display_data"
    }
   ],
   "source": [
    "plt.figure(figsize=(15,6))\n",
    "plt.plot(data_stock[\"Close\"], 'green')\n",
    "plt.title(\"BSE Sensex stock price over time\")\n",
    "plt.xlabel(\"time\")\n",
    "plt.ylabel(\"price\")\n",
    "plt.show()"
   ]
  },
  {
   "cell_type": "code",
   "execution_count": 488,
   "metadata": {},
   "outputs": [
    {
     "data": {
      "text/plain": [
       "<matplotlib.legend.Legend at 0x1c41cea5a90>"
      ]
     },
     "execution_count": 488,
     "metadata": {},
     "output_type": "execute_result"
    },
    {
     "data": {
      "image/png": "[encoded data removed]",
      "text/plain": [
       "<Figure size 1080x432 with 1 Axes>"
      ]
     },
     "metadata": {
      "needs_background": "light"
     },
     "output_type": "display_data"
    }
   ],
   "source": [
    "#split data into train and training set\n",
    "\n",
    "train_data, test_data = data_stock[:int(len(data_stock)*0.9)], data_stock[int(len(data_stock)*0.9):]\n",
    "plt.figure(figsize=(15,6))\n",
    "plt.grid(True)\n",
    "plt.xlabel('Dates')\n",
    "plt.ylabel('Closing Prices')\n",
    "plt.plot(data_stock['Close'], 'red', label='Train data')\n",
    "plt.plot(test_data['Close'], 'blue', label='Test data')\n",
    "plt.legend()"
   ]
  },
  {
   "cell_type": "markdown",
   "metadata": {},
   "source": [
    "# **AUTO_ARIMA MODEL**\n",
    "\n",
    "**Parameters of ARIMA MODEL**\n",
    "\n",
    "p (past values used for forecasting the next value)\n",
    "q (past forecast errors used to predict the future values)\n",
    "d (order of differencing)"
   ]
  },
  {
   "cell_type": "code",
   "execution_count": 489,
   "metadata": {},
   "outputs": [],
   "source": [
    "from statsmodels.tsa.arima_model import ARIMA\n",
    "from pmdarima.arima import auto_arima\n",
    "from sklearn.metrics import mean_absolute_error,mean_squared_error\n",
    "from math import sqrt\n",
    "import joblib"
   ]
  },
  {
   "cell_type": "code",
   "execution_count": 490,
   "metadata": {},
   "outputs": [
    {
     "name": "stdout",
     "output_type": "stream",
     "text": [
      "Performing stepwise search to minimize aic\n",
      " ARIMA(0,0,0)(0,0,0)[0]             : AIC=99548.741, Time=0.05 sec\n",
      " ARIMA(1,0,0)(0,0,0)[0]             : AIC=inf, Time=0.50 sec\n",
      " ARIMA(0,0,1)(0,0,0)[0]             : AIC=inf, Time=0.67 sec\n",
      " ARIMA(1,0,1)(0,0,0)[0]             : AIC=59670.977, Time=0.98 sec\n",
      " ARIMA(2,0,1)(0,0,0)[0]             : AIC=inf, Time=1.02 sec\n",
      " ARIMA(1,0,2)(0,0,0)[0]             : AIC=59672.600, Time=1.50 sec\n",
      " ARIMA(0,0,2)(0,0,0)[0]             : AIC=inf, Time=2.78 sec\n",
      " ARIMA(2,0,0)(0,0,0)[0]             : AIC=inf, Time=0.92 sec\n",
      " ARIMA(2,0,2)(0,0,0)[0]             : AIC=59668.997, Time=1.64 sec\n",
      " ARIMA(3,0,2)(0,0,0)[0]             : AIC=59684.360, Time=2.93 sec\n",
      " ARIMA(2,0,3)(0,0,0)[0]             : AIC=59669.990, Time=2.26 sec\n",
      " ARIMA(1,0,3)(0,0,0)[0]             : AIC=59673.550, Time=1.81 sec\n",
      " ARIMA(3,0,1)(0,0,0)[0]             : AIC=inf, Time=1.72 sec\n",
      " ARIMA(3,0,3)(0,0,0)[0]             : AIC=inf, Time=3.11 sec\n",
      " ARIMA(2,0,2)(0,0,0)[0] intercept   : AIC=inf, Time=3.78 sec\n",
      "\n",
      "Best model:  ARIMA(2,0,2)(0,0,0)[0]          \n",
      "Total fit time: 25.712 seconds\n",
      "                               SARIMAX Results                                \n",
      "==============================================================================\n",
      "Dep. Variable:                      y   No. Observations:                 4417\n",
      "Model:               SARIMAX(2, 0, 2)   Log Likelihood              -29829.498\n",
      "Date:                Fri, 11 Dec 2020   AIC                          59668.997\n",
      "Time:                        23:57:24   BIC                          59700.963\n",
      "Sample:                             0   HQIC                         59680.271\n",
      "                               - 4417                                         \n",
      "Covariance Type:                  opg                                         \n",
      "==============================================================================\n",
      "                 coef    std err          z      P>|z|      [0.025      0.975]\n",
      "------------------------------------------------------------------------------\n",
      "ar.L1          0.0066      0.006      1.119      0.263      -0.005       0.018\n",
      "ar.L2          0.9933      0.006    167.749      0.000       0.982       1.005\n",
      "ma.L1          1.0782      0.012     89.972      0.000       1.055       1.102\n",
      "ma.L2          0.0882      0.011      8.062      0.000       0.067       0.110\n",
      "sigma2      4.265e+04    458.763     92.976      0.000    4.18e+04    4.36e+04\n",
      "===================================================================================\n",
      "Ljung-Box (L1) (Q):                   0.02   Jarque-Bera (JB):              6408.26\n",
      "Prob(Q):                              0.88   Prob(JB):                         0.00\n",
      "Heteroskedasticity (H):               6.31   Skew:                            -0.04\n",
      "Prob(H) (two-sided):                  0.00   Kurtosis:                         8.90\n",
      "===================================================================================\n",
      "\n",
      "Warnings:\n",
      "[1] Covariance matrix calculated using the outer product of gradients (complex-step).\n"
     ]
    }
   ],
   "source": [
    "# ARIMA MODEL is a popular statistical model for analyzing and forecasting Time series data\n",
    "\n",
    "model_autoARIMA = auto_arima(train_data['Close'], start_p=0, start_q=0,\n",
    "                      test='adf',       # use adf test to find the value of 'd'\n",
    "                      max_p=3, max_q=3, # maximum p and q\n",
    "                      m=1,              # frequency of series\n",
    "                      d=None,           # let model determine 'd'\n",
    "                      seasonal=False,   # No Seasonality\n",
    "                      start_P=0, \n",
    "                      D=0, \n",
    "                      trace=True,\n",
    "                      error_action='ignore',  \n",
    "                      suppress_warnings=True, \n",
    "                      stepwise=True)\n",
    "print(model_autoARIMA.summary())"
   ]
  },
  {
   "cell_type": "code",
   "execution_count": 491,
   "metadata": {},
   "outputs": [
    {
     "name": "stdout",
     "output_type": "stream",
     "text": [
      "                             ARIMA Model Results                              \n",
      "==============================================================================\n",
      "Dep. Variable:                D.Close   No. Observations:                 4416\n",
      "Model:                 ARIMA(0, 1, 1)   Log Likelihood              -29818.805\n",
      "Method:                       css-mle   S.D. of innovations            207.163\n",
      "Date:                Fri, 11 Dec 2020   AIC                          59643.609\n",
      "Time:                        23:57:29   BIC                          59662.788\n",
      "Sample:                             1   HQIC                         59650.374\n",
      "                                                                              \n",
      "=================================================================================\n",
      "                    coef    std err          z      P>|z|      [0.025      0.975]\n",
      "---------------------------------------------------------------------------------\n",
      "const             7.0863      3.372      2.101      0.036       0.477      13.696\n",
      "ma.L1.D.Close     0.0817      0.015      5.398      0.000       0.052       0.111\n",
      "                                    Roots                                    \n",
      "=============================================================================\n",
      "                  Real          Imaginary           Modulus         Frequency\n",
      "-----------------------------------------------------------------------------\n",
      "MA.1          -12.2325           +0.0000j           12.2325            0.5000\n",
      "-----------------------------------------------------------------------------\n"
     ]
    }
   ],
   "source": [
    "# Fitting the ARIMA model\n",
    "\n",
    "model = ARIMA(train_data['Close'], order=(0,1,1))  \n",
    "fitted = model.fit(disp=-1)  \n",
    "print(fitted.summary())"
   ]
  },
  {
   "cell_type": "code",
   "execution_count": 492,
   "metadata": {},
   "outputs": [
    {
     "data": {
      "image/png": "[encoded data removed]",
      "text/plain": [
       "<Figure size 1200x500 with 1 Axes>"
      ]
     },
     "metadata": {
      "needs_background": "light"
     },
     "output_type": "display_data"
    }
   ],
   "source": [
    "# Forecast\n",
    "\n",
    "fc, se, conf = fitted.forecast(491, alpha=0.05)  # 95% confidence\n",
    "fc_series = pd.Series(fc, index=test_data.index)\n",
    "lower_series = pd.Series(conf[:, 0], index=test_data.index)\n",
    "upper_series = pd.Series(conf[:, 1], index=test_data.index)\n",
    "plt.figure(figsize=(12,5), dpi=100)\n",
    "plt.plot(train_data['Close'], label='training')\n",
    "plt.plot(test_data['Close'], color = 'red', label='Actual Stock Price')\n",
    "plt.plot(fc_series, color = 'green',label='Predicted Stock Price')\n",
    "plt.fill_between(lower_series.index, lower_series, upper_series, \n",
    "                 color='k', alpha=.10)\n",
    "plt.title('BSE Sensex Stock Price Prediction')\n",
    "plt.xlabel('Time')\n",
    "plt.ylabel('Actual Stock Price')\n",
    "plt.legend(loc='upper left', fontsize=8)\n",
    "plt.show()"
   ]
  },
  {
   "cell_type": "code",
   "execution_count": 493,
   "metadata": {},
   "outputs": [
    {
     "name": "stdout",
     "output_type": "stream",
     "text": [
      "MSE: 11836742.954240436\n",
      "MAE: 2706.4069732153653\n",
      "RMSE: 3440.4567944155956\n",
      "MAPE: 0.07399750762155455\n"
     ]
    }
   ],
   "source": [
    "# report performance\n",
    "mse = mean_squared_error(test_data['Close'], fc)\n",
    "print('MSE: '+str(mse))\n",
    "mae = mean_absolute_error(test_data['Close'], fc)\n",
    "print('MAE: '+str(mae))\n",
    "rmse = sqrt(mean_squared_error(test_data['Close'], fc))\n",
    "print('RMSE: '+str(rmse))\n",
    "mape = np.mean(np.abs(fc - test_data['Close'])/np.abs(test_data['Close']))\n",
    "print('MAPE: '+str(mape))"
   ]
  },
  {
   "cell_type": "code",
   "execution_count": 494,
   "metadata": {},
   "outputs": [
    {
     "data": {
      "text/html": [
       "<table class=\"simpletable\">\n",
       "<caption>ARIMA Model Results</caption>\n",
       "<tr>\n",
       "  <th>Dep. Variable:</th>      <td>D.Close</td>     <th>  No. Observations:  </th>    <td>4416</td>   \n",
       "</tr>\n",
       "<tr>\n",
       "  <th>Model:</th>          <td>ARIMA(0, 1, 1)</td>  <th>  Log Likelihood     </th> <td>-29818.805</td>\n",
       "</tr>\n",
       "<tr>\n",
       "  <th>Method:</th>             <td>css-mle</td>     <th>  S.D. of innovations</th>   <td>207.163</td> \n",
       "</tr>\n",
       "<tr>\n",
       "  <th>Date:</th>          <td>Sat, 12 Dec 2020</td> <th>  AIC                </th>  <td>59643.609</td>\n",
       "</tr>\n",
       "<tr>\n",
       "  <th>Time:</th>              <td>00:00:47</td>     <th>  BIC                </th>  <td>59662.788</td>\n",
       "</tr>\n",
       "<tr>\n",
       "  <th>Sample:</th>                <td>1</td>        <th>  HQIC               </th>  <td>59650.374</td>\n",
       "</tr>\n",
       "<tr>\n",
       "  <th></th>                       <td> </td>        <th>                     </th>      <td> </td>    \n",
       "</tr>\n",
       "</table>\n",
       "<table class=\"simpletable\">\n",
       "<tr>\n",
       "        <td></td>           <th>coef</th>     <th>std err</th>      <th>z</th>      <th>P>|z|</th>  <th>[0.025</th>    <th>0.975]</th>  \n",
       "</tr>\n",
       "<tr>\n",
       "  <th>const</th>         <td>    7.0863</td> <td>    3.372</td> <td>    2.101</td> <td> 0.036</td> <td>    0.477</td> <td>   13.696</td>\n",
       "</tr>\n",
       "<tr>\n",
       "  <th>ma.L1.D.Close</th> <td>    0.0817</td> <td>    0.015</td> <td>    5.398</td> <td> 0.000</td> <td>    0.052</td> <td>    0.111</td>\n",
       "</tr>\n",
       "</table>\n",
       "<table class=\"simpletable\">\n",
       "<caption>Roots</caption>\n",
       "<tr>\n",
       "    <td></td>   <th>            Real</th>  <th>         Imaginary</th> <th>         Modulus</th>  <th>        Frequency</th>\n",
       "</tr>\n",
       "<tr>\n",
       "  <th>MA.1</th> <td>         -12.2325</td> <td>          +0.0000j</td> <td>          12.2325</td> <td>           0.5000</td>\n",
       "</tr>\n",
       "</table>"
      ],
      "text/plain": [
       "<class 'statsmodels.iolib.summary.Summary'>\n",
       "\"\"\"\n",
       "                             ARIMA Model Results                              \n",
       "==============================================================================\n",
       "Dep. Variable:                D.Close   No. Observations:                 4416\n",
       "Model:                 ARIMA(0, 1, 1)   Log Likelihood              -29818.805\n",
       "Method:                       css-mle   S.D. of innovations            207.163\n",
       "Date:                Sat, 12 Dec 2020   AIC                          59643.609\n",
       "Time:                        00:00:47   BIC                          59662.788\n",
       "Sample:                             1   HQIC                         59650.374\n",
       "                                                                              \n",
       "=================================================================================\n",
       "                    coef    std err          z      P>|z|      [0.025      0.975]\n",
       "---------------------------------------------------------------------------------\n",
       "const             7.0863      3.372      2.101      0.036       0.477      13.696\n",
       "ma.L1.D.Close     0.0817      0.015      5.398      0.000       0.052       0.111\n",
       "                                    Roots                                    \n",
       "=============================================================================\n",
       "                  Real          Imaginary           Modulus         Frequency\n",
       "-----------------------------------------------------------------------------\n",
       "MA.1          -12.2325           +0.0000j           12.2325            0.5000\n",
       "-----------------------------------------------------------------------------\n",
       "\"\"\""
      ]
     },
     "execution_count": 494,
     "metadata": {},
     "output_type": "execute_result"
    }
   ],
   "source": [
    "fitted.summary()"
   ]
  },
  {
   "cell_type": "markdown",
   "metadata": {},
   "source": [
    "# STACKED LSTM(LONG SHORT TERM MEMORY)\n",
    "\n",
    "**x(t) --> A1 --> h(t-1) _______ x(t) -->  A2 --> h(t)_______ x(t) --> A3 --> h(t+1)"
   ]
  },
  {
   "cell_type": "code",
   "execution_count": 495,
   "metadata": {},
   "outputs": [],
   "source": [
    "stock_data=data_stock.reset_index()['Close']"
   ]
  },
  {
   "cell_type": "code",
   "execution_count": 496,
   "metadata": {},
   "outputs": [
    {
     "data": {
      "text/plain": [
       "0        4018.879883\n",
       "1        4060.020020\n",
       "2        4115.370117\n",
       "3        4183.729980\n",
       "4        4120.430176\n",
       "            ...     \n",
       "4903    44632.648440\n",
       "4904    45079.550780\n",
       "4905    45426.968750\n",
       "4906    45608.511720\n",
       "4907    46103.500000\n",
       "Name: Close, Length: 4908, dtype: float64"
      ]
     },
     "execution_count": 496,
     "metadata": {},
     "output_type": "execute_result"
    }
   ],
   "source": [
    "stock_data"
   ]
  },
  {
   "cell_type": "code",
   "execution_count": 497,
   "metadata": {},
   "outputs": [
    {
     "data": {
      "text/plain": [
       "[<matplotlib.lines.Line2D at 0x1c40de72be0>]"
      ]
     },
     "execution_count": 497,
     "metadata": {},
     "output_type": "execute_result"
    },
    {
     "data": {
      "image/png": "[encoded data removed]",
      "text/plain": [
       "<Figure size 432x288 with 1 Axes>"
      ]
     },
     "metadata": {
      "needs_background": "light"
     },
     "output_type": "display_data"
    }
   ],
   "source": [
    "plt.plot(stock_data)"
   ]
  },
  {
   "cell_type": "code",
   "execution_count": 498,
   "metadata": {},
   "outputs": [],
   "source": [
    "from sklearn.preprocessing import MinMaxScaler\n",
    "scaler=MinMaxScaler(feature_range=(0,1))\n",
    "stock_data=scaler.fit_transform(np.array(stock_data).reshape(-1,1))"
   ]
  },
  {
   "cell_type": "code",
   "execution_count": 499,
   "metadata": {},
   "outputs": [
    {
     "name": "stdout",
     "output_type": "stream",
     "text": [
      "[[0.03261263]\n",
      " [0.03355831]\n",
      " [0.03483063]\n",
      " ...\n",
      " [0.98444877]\n",
      " [0.98862184]\n",
      " [1.        ]]\n"
     ]
    }
   ],
   "source": [
    "print(stock_data)"
   ]
  },
  {
   "cell_type": "code",
   "execution_count": 500,
   "metadata": {},
   "outputs": [],
   "source": [
    "##splitting dataset into train and test split\n",
    "training_size=int(len(stock_data)*0.65) \n",
    "test_size=len(stock_data)-training_size\n",
    "train_data,test_data=stock_data[0:training_size,:],stock_data[training_size:len(stock_data),:1]"
   ]
  },
  {
   "cell_type": "code",
   "execution_count": 501,
   "metadata": {},
   "outputs": [
    {
     "data": {
      "text/plain": [
       "(3190, 1718)"
      ]
     },
     "execution_count": 501,
     "metadata": {},
     "output_type": "execute_result"
    }
   ],
   "source": [
    "training_size,test_size"
   ]
  },
  {
   "cell_type": "code",
   "execution_count": 588,
   "metadata": {},
   "outputs": [
    {
     "data": {
      "text/plain": [
       "array([[0.03261263],\n",
       "       [0.03355831],\n",
       "       [0.03483063],\n",
       "       ...,\n",
       "       [0.41817003],\n",
       "       [0.42060846],\n",
       "       [0.41961797]])"
      ]
     },
     "execution_count": 588,
     "metadata": {},
     "output_type": "execute_result"
    }
   ],
   "source": [
    "train_data\n"
   ]
  },
  {
   "cell_type": "code",
   "execution_count": 557,
   "metadata": {},
   "outputs": [],
   "source": [
    "def create_dataset(dataset, time_step=1):\n",
    "\tdataX, dataY = [], []\n",
    "\tfor i in range(len(dataset)-time_step-1):\n",
    "\t\ta = dataset[i:(i+time_step), 0]   ###i=0, 0,1,2,3-----99   100 \n",
    "\t\tdataX.append(a)\n",
    "\t\tdataY.append(dataset[i + time_step, 0])\n",
    "\treturn numpy.array(dataX), numpy.array(dataY)"
   ]
  },
  {
   "cell_type": "code",
   "execution_count": 558,
   "metadata": {},
   "outputs": [],
   "source": [
    "import numpy\n",
    "# reshape into X=t,t+1,t+2,t+3 and Y=t+4\n",
    "time_step = 100\n",
    "X_train, y_train = create_dataset(train_data, time_step)\n",
    "X_test, ytest = create_dataset(test_data, time_step)"
   ]
  },
  {
   "cell_type": "code",
   "execution_count": 559,
   "metadata": {},
   "outputs": [
    {
     "name": "stdout",
     "output_type": "stream",
     "text": [
      "(3089, 100)\n",
      "(3089,)\n"
     ]
    },
    {
     "data": {
      "text/plain": [
       "(None, None)"
      ]
     },
     "execution_count": 559,
     "metadata": {},
     "output_type": "execute_result"
    }
   ],
   "source": [
    "print(X_train.shape), print(y_train.shape)"
   ]
  },
  {
   "cell_type": "code",
   "execution_count": 560,
   "metadata": {},
   "outputs": [
    {
     "name": "stdout",
     "output_type": "stream",
     "text": [
      "(1617, 100)\n",
      "(1617,)\n"
     ]
    },
    {
     "data": {
      "text/plain": [
       "(None, None)"
      ]
     },
     "execution_count": 560,
     "metadata": {},
     "output_type": "execute_result"
    }
   ],
   "source": [
    "print(X_test.shape), print(ytest.shape)"
   ]
  },
  {
   "cell_type": "code",
   "execution_count": 561,
   "metadata": {},
   "outputs": [],
   "source": [
    "# reshape input to be [samples, time steps, features] which is required for LSTM\n",
    "X_train =X_train.reshape(X_train.shape[0],X_train.shape[1] , 1)\n",
    "X_test = X_test.reshape(X_test.shape[0],X_test.shape[1] , 1)"
   ]
  },
  {
   "cell_type": "code",
   "execution_count": 562,
   "metadata": {},
   "outputs": [],
   "source": [
    "import tensorflow as tf\n",
    "\n",
    "### Create the Stacked LSTM model\n",
    "from tensorflow.keras.models import Sequential\n",
    "from tensorflow.keras.layers import Dense\n",
    "from tensorflow.keras.layers import LSTM"
   ]
  },
  {
   "cell_type": "code",
   "execution_count": 563,
   "metadata": {},
   "outputs": [],
   "source": [
    "#A Sequential model is not appropriate when:\n",
    "\n",
    "#Your model has multiple inputs or multiple outputs\n",
    "#Any of your layers has multiple inputs or multiple outputs\n",
    "#You need to do layer sharing\n",
    "\n",
    "model=Sequential()\n",
    "model.add(LSTM(50,return_sequences=True,input_shape=(100,1)))\n",
    "model.add(LSTM(50,return_sequences=True))\n",
    "model.add(LSTM(50))\n",
    "model.add(Dense(1))\n",
    "model.compile(loss='mean_squared_error',optimizer='adam')"
   ]
  },
  {
   "cell_type": "code",
   "execution_count": 564,
   "metadata": {},
   "outputs": [
    {
     "name": "stdout",
     "output_type": "stream",
     "text": [
      "Model: \"sequential_6\"\n",
      "_________________________________________________________________\n",
      "Layer (type)                 Output Shape              Param #   \n",
      "=================================================================\n",
      "lstm_18 (LSTM)               (None, 100, 50)           10400     \n",
      "_________________________________________________________________\n",
      "lstm_19 (LSTM)               (None, 100, 50)           20200     \n",
      "_________________________________________________________________\n",
      "lstm_20 (LSTM)               (None, 50)                20200     \n",
      "_________________________________________________________________\n",
      "dense_6 (Dense)              (None, 1)                 51        \n",
      "=================================================================\n",
      "Total params: 50,851\n",
      "Trainable params: 50,851\n",
      "Non-trainable params: 0\n",
      "_________________________________________________________________\n"
     ]
    }
   ],
   "source": [
    "model.summary()"
   ]
  },
  {
   "cell_type": "code",
   "execution_count": 565,
   "metadata": {},
   "outputs": [
    {
     "name": "stdout",
     "output_type": "stream",
     "text": [
      "Epoch 1/100\n",
      "49/49 [==============================] - 6s 117ms/step - loss: 0.0052 - val_loss: 0.0018\n",
      "Epoch 2/100\n",
      "49/49 [==============================] - 5s 108ms/step - loss: 2.2370e-04 - val_loss: 0.0025\n",
      "Epoch 3/100\n",
      "49/49 [==============================] - 5s 108ms/step - loss: 1.9068e-04 - val_loss: 0.0025\n",
      "Epoch 4/100\n",
      "49/49 [==============================] - 5s 109ms/step - loss: 1.8479e-04 - val_loss: 0.0036\n",
      "Epoch 5/100\n",
      "49/49 [==============================] - 5s 108ms/step - loss: 1.9053e-04 - val_loss: 0.0042\n",
      "Epoch 6/100\n",
      "49/49 [==============================] - 5s 108ms/step - loss: 1.7826e-04 - val_loss: 0.0033\n",
      "Epoch 7/100\n",
      "49/49 [==============================] - 5s 108ms/step - loss: 1.7727e-04 - val_loss: 0.0019\n",
      "Epoch 8/100\n",
      "49/49 [==============================] - 5s 108ms/step - loss: 1.6813e-04 - val_loss: 0.0020\n",
      "Epoch 9/100\n",
      "49/49 [==============================] - 5s 108ms/step - loss: 1.5331e-04 - val_loss: 0.0016\n",
      "Epoch 10/100\n",
      "49/49 [==============================] - 5s 108ms/step - loss: 1.6000e-04 - val_loss: 0.0022\n",
      "Epoch 11/100\n",
      "49/49 [==============================] - 5s 108ms/step - loss: 1.4790e-04 - val_loss: 9.0794e-04\n",
      "Epoch 12/100\n",
      "49/49 [==============================] - 5s 110ms/step - loss: 1.4559e-04 - val_loss: 0.0025\n",
      "Epoch 13/100\n",
      "49/49 [==============================] - 5s 109ms/step - loss: 1.3121e-04 - val_loss: 0.0029\n",
      "Epoch 14/100\n",
      "49/49 [==============================] - 5s 107ms/step - loss: 1.2629e-04 - val_loss: 0.0028\n",
      "Epoch 15/100\n",
      "49/49 [==============================] - 5s 108ms/step - loss: 1.2356e-04 - val_loss: 8.3791e-04\n",
      "Epoch 16/100\n",
      "49/49 [==============================] - 5s 108ms/step - loss: 1.1951e-04 - val_loss: 0.0029\n",
      "Epoch 17/100\n",
      "49/49 [==============================] - 5s 108ms/step - loss: 1.4638e-04 - val_loss: 0.0019\n",
      "Epoch 18/100\n",
      "49/49 [==============================] - 5s 108ms/step - loss: 1.3264e-04 - val_loss: 4.6144e-04\n",
      "Epoch 19/100\n",
      "49/49 [==============================] - 5s 109ms/step - loss: 1.1073e-04 - val_loss: 0.0014\n",
      "Epoch 20/100\n",
      "49/49 [==============================] - 5s 109ms/step - loss: 1.0487e-04 - val_loss: 0.0023\n",
      "Epoch 21/100\n",
      "49/49 [==============================] - 5s 108ms/step - loss: 1.0847e-04 - val_loss: 0.0020\n",
      "Epoch 22/100\n",
      "49/49 [==============================] - 5s 108ms/step - loss: 1.1846e-04 - val_loss: 0.0011\n",
      "Epoch 23/100\n",
      "49/49 [==============================] - 5s 108ms/step - loss: 9.8001e-05 - val_loss: 6.8477e-04\n",
      "Epoch 24/100\n",
      "49/49 [==============================] - 5s 111ms/step - loss: 9.6708e-05 - val_loss: 0.0015\n",
      "Epoch 25/100\n",
      "49/49 [==============================] - 5s 109ms/step - loss: 9.8534e-05 - val_loss: 4.2508e-04\n",
      "Epoch 26/100\n",
      "49/49 [==============================] - 5s 108ms/step - loss: 1.0439e-04 - val_loss: 3.2899e-04\n",
      "Epoch 27/100\n",
      "49/49 [==============================] - 5s 110ms/step - loss: 9.7241e-05 - val_loss: 7.2692e-04\n",
      "Epoch 28/100\n",
      "49/49 [==============================] - 5s 109ms/step - loss: 8.7191e-05 - val_loss: 0.0026\n",
      "Epoch 29/100\n",
      "49/49 [==============================] - 5s 109ms/step - loss: 1.3495e-04 - val_loss: 3.8562e-04\n",
      "Epoch 30/100\n",
      "49/49 [==============================] - 5s 108ms/step - loss: 1.1223e-04 - val_loss: 0.0021\n",
      "Epoch 31/100\n",
      "49/49 [==============================] - 5s 109ms/step - loss: 9.9613e-05 - val_loss: 9.8011e-04\n",
      "Epoch 32/100\n",
      "49/49 [==============================] - 5s 109ms/step - loss: 8.3683e-05 - val_loss: 5.6626e-04\n",
      "Epoch 33/100\n",
      "49/49 [==============================] - 5s 108ms/step - loss: 9.4923e-05 - val_loss: 8.0032e-04\n",
      "Epoch 34/100\n",
      "49/49 [==============================] - 5s 108ms/step - loss: 8.1669e-05 - val_loss: 3.0101e-04\n",
      "Epoch 35/100\n",
      "49/49 [==============================] - 5s 108ms/step - loss: 8.2402e-05 - val_loss: 5.4000e-04\n",
      "Epoch 36/100\n",
      "49/49 [==============================] - 5s 110ms/step - loss: 8.9851e-05 - val_loss: 2.5179e-04\n",
      "Epoch 37/100\n",
      "49/49 [==============================] - 5s 109ms/step - loss: 8.0365e-05 - val_loss: 8.0061e-04\n",
      "Epoch 38/100\n",
      "49/49 [==============================] - 5s 109ms/step - loss: 8.8679e-05 - val_loss: 4.5441e-04\n",
      "Epoch 39/100\n",
      "49/49 [==============================] - 5s 110ms/step - loss: 8.1005e-05 - val_loss: 2.6030e-04\n",
      "Epoch 40/100\n",
      "49/49 [==============================] - 5s 109ms/step - loss: 8.6075e-05 - val_loss: 2.2729e-04\n",
      "Epoch 41/100\n",
      "49/49 [==============================] - 5s 110ms/step - loss: 7.7900e-05 - val_loss: 9.1653e-04\n",
      "Epoch 42/100\n",
      "49/49 [==============================] - 5s 109ms/step - loss: 8.1009e-05 - val_loss: 8.5650e-04\n",
      "Epoch 43/100\n",
      "49/49 [==============================] - 5s 109ms/step - loss: 7.3637e-05 - val_loss: 6.4160e-04\n",
      "Epoch 44/100\n",
      "49/49 [==============================] - 5s 109ms/step - loss: 6.8529e-05 - val_loss: 3.2161e-04\n",
      "Epoch 45/100\n",
      "49/49 [==============================] - 5s 110ms/step - loss: 6.5059e-05 - val_loss: 2.6552e-04\n",
      "Epoch 46/100\n",
      "49/49 [==============================] - 5s 109ms/step - loss: 6.9424e-05 - val_loss: 8.5249e-04\n",
      "Epoch 47/100\n",
      "49/49 [==============================] - 5s 108ms/step - loss: 6.4615e-05 - val_loss: 2.0372e-04\n",
      "Epoch 48/100\n",
      "49/49 [==============================] - 5s 110ms/step - loss: 6.6422e-05 - val_loss: 6.5667e-04\n",
      "Epoch 49/100\n",
      "49/49 [==============================] - 5s 110ms/step - loss: 5.9593e-05 - val_loss: 3.1512e-04\n",
      "Epoch 50/100\n",
      "49/49 [==============================] - 5s 109ms/step - loss: 6.1398e-05 - val_loss: 1.5627e-04\n",
      "Epoch 51/100\n",
      "49/49 [==============================] - 5s 109ms/step - loss: 5.8633e-05 - val_loss: 1.3823e-04\n",
      "Epoch 52/100\n",
      "49/49 [==============================] - 5s 109ms/step - loss: 5.7492e-05 - val_loss: 3.8079e-04\n",
      "Epoch 53/100\n",
      "49/49 [==============================] - 5s 109ms/step - loss: 5.2398e-05 - val_loss: 1.1031e-04\n",
      "Epoch 54/100\n",
      "49/49 [==============================] - 5s 110ms/step - loss: 5.2943e-05 - val_loss: 1.0404e-04\n",
      "Epoch 55/100\n",
      "49/49 [==============================] - 6s 113ms/step - loss: 5.4954e-05 - val_loss: 4.4403e-04\n",
      "Epoch 56/100\n",
      "49/49 [==============================] - 5s 109ms/step - loss: 5.2569e-05 - val_loss: 1.0313e-04\n",
      "Epoch 57/100\n",
      "49/49 [==============================] - 6s 115ms/step - loss: 4.8169e-05 - val_loss: 3.1915e-04\n",
      "Epoch 58/100\n",
      "49/49 [==============================] - 6s 118ms/step - loss: 5.8218e-05 - val_loss: 3.2784e-04\n",
      "Epoch 59/100\n",
      "49/49 [==============================] - 5s 109ms/step - loss: 5.2103e-05 - val_loss: 8.5001e-04\n",
      "Epoch 60/100\n",
      "49/49 [==============================] - 5s 110ms/step - loss: 6.8721e-05 - val_loss: 2.7675e-04\n",
      "Epoch 61/100\n",
      "49/49 [==============================] - 5s 109ms/step - loss: 5.9783e-05 - val_loss: 4.3518e-04\n",
      "Epoch 62/100\n",
      "49/49 [==============================] - 5s 109ms/step - loss: 4.2335e-05 - val_loss: 1.7357e-04\n",
      "Epoch 63/100\n",
      "49/49 [==============================] - 5s 110ms/step - loss: 4.3762e-05 - val_loss: 1.6312e-04\n",
      "Epoch 64/100\n",
      "49/49 [==============================] - 5s 109ms/step - loss: 4.3052e-05 - val_loss: 1.7904e-04\n",
      "Epoch 65/100\n",
      "49/49 [==============================] - 5s 110ms/step - loss: 4.0907e-05 - val_loss: 1.2166e-04\n",
      "Epoch 66/100\n",
      "49/49 [==============================] - 5s 108ms/step - loss: 4.1304e-05 - val_loss: 7.7493e-05\n",
      "Epoch 67/100\n",
      "49/49 [==============================] - 5s 109ms/step - loss: 5.0482e-05 - val_loss: 1.4880e-04\n",
      "Epoch 68/100\n",
      "49/49 [==============================] - 5s 110ms/step - loss: 3.8884e-05 - val_loss: 1.2281e-04\n",
      "Epoch 69/100\n",
      "49/49 [==============================] - 5s 107ms/step - loss: 3.9316e-05 - val_loss: 1.1823e-04\n",
      "Epoch 70/100\n",
      "49/49 [==============================] - 5s 109ms/step - loss: 4.0172e-05 - val_loss: 1.2299e-04\n",
      "Epoch 71/100\n",
      "49/49 [==============================] - 5s 109ms/step - loss: 4.0010e-05 - val_loss: 7.7225e-05\n",
      "Epoch 72/100\n",
      "49/49 [==============================] - 5s 110ms/step - loss: 3.5262e-05 - val_loss: 7.7775e-05\n",
      "Epoch 73/100\n",
      "49/49 [==============================] - 5s 109ms/step - loss: 3.4735e-05 - val_loss: 3.0371e-04\n",
      "Epoch 74/100\n",
      "49/49 [==============================] - 5s 109ms/step - loss: 3.3627e-05 - val_loss: 7.2397e-05\n",
      "Epoch 75/100\n",
      "49/49 [==============================] - 5s 109ms/step - loss: 3.7955e-05 - val_loss: 3.3408e-04\n",
      "Epoch 76/100\n"
     ]
    },
    {
     "name": "stdout",
     "output_type": "stream",
     "text": [
      "49/49 [==============================] - 5s 108ms/step - loss: 4.4098e-05 - val_loss: 7.2304e-05\n",
      "Epoch 77/100\n",
      "49/49 [==============================] - 5s 108ms/step - loss: 3.1335e-05 - val_loss: 1.5541e-04\n",
      "Epoch 78/100\n",
      "49/49 [==============================] - 5s 108ms/step - loss: 3.5653e-05 - val_loss: 9.2322e-05\n",
      "Epoch 79/100\n",
      "49/49 [==============================] - 5s 108ms/step - loss: 2.9217e-05 - val_loss: 1.0990e-04\n",
      "Epoch 80/100\n",
      "49/49 [==============================] - 5s 108ms/step - loss: 3.2663e-05 - val_loss: 4.0581e-04\n",
      "Epoch 81/100\n",
      "49/49 [==============================] - 5s 107ms/step - loss: 3.0422e-05 - val_loss: 1.6463e-04\n",
      "Epoch 82/100\n",
      "49/49 [==============================] - 5s 108ms/step - loss: 2.7097e-05 - val_loss: 8.4575e-05\n",
      "Epoch 83/100\n",
      "49/49 [==============================] - 5s 108ms/step - loss: 3.2084e-05 - val_loss: 4.4340e-04\n",
      "Epoch 84/100\n",
      "49/49 [==============================] - 5s 110ms/step - loss: 2.9080e-05 - val_loss: 8.8662e-05\n",
      "Epoch 85/100\n",
      "49/49 [==============================] - 5s 111ms/step - loss: 2.7702e-05 - val_loss: 7.7421e-05\n",
      "Epoch 86/100\n",
      "49/49 [==============================] - 5s 107ms/step - loss: 3.0859e-05 - val_loss: 8.0297e-05\n",
      "Epoch 87/100\n",
      "49/49 [==============================] - 5s 107ms/step - loss: 3.5870e-05 - val_loss: 3.7190e-04\n",
      "Epoch 88/100\n",
      "49/49 [==============================] - 5s 107ms/step - loss: 2.9922e-05 - val_loss: 8.8610e-05\n",
      "Epoch 89/100\n",
      "49/49 [==============================] - 5s 107ms/step - loss: 3.1097e-05 - val_loss: 1.3498e-04\n",
      "Epoch 90/100\n",
      "49/49 [==============================] - 5s 108ms/step - loss: 2.6742e-05 - val_loss: 1.0872e-04\n",
      "Epoch 91/100\n",
      "49/49 [==============================] - 5s 107ms/step - loss: 2.5117e-05 - val_loss: 1.4386e-04\n",
      "Epoch 92/100\n",
      "49/49 [==============================] - 5s 108ms/step - loss: 2.8180e-05 - val_loss: 1.1306e-04\n",
      "Epoch 93/100\n",
      "49/49 [==============================] - 5s 108ms/step - loss: 2.7024e-05 - val_loss: 2.0014e-04\n",
      "Epoch 94/100\n",
      "49/49 [==============================] - 5s 107ms/step - loss: 2.6834e-05 - val_loss: 1.0375e-04\n",
      "Epoch 95/100\n",
      "49/49 [==============================] - 5s 107ms/step - loss: 2.6833e-05 - val_loss: 1.0626e-04\n",
      "Epoch 96/100\n",
      "49/49 [==============================] - 5s 107ms/step - loss: 2.7196e-05 - val_loss: 1.9629e-04\n",
      "Epoch 97/100\n",
      "49/49 [==============================] - 5s 110ms/step - loss: 3.6247e-05 - val_loss: 2.8058e-04\n",
      "Epoch 98/100\n",
      "49/49 [==============================] - 5s 108ms/step - loss: 3.2009e-05 - val_loss: 2.8961e-04\n",
      "Epoch 99/100\n",
      "49/49 [==============================] - 5s 109ms/step - loss: 2.6125e-05 - val_loss: 1.0160e-04\n",
      "Epoch 100/100\n",
      "49/49 [==============================] - 5s 108ms/step - loss: 3.3511e-05 - val_loss: 3.1137e-04\n"
     ]
    },
    {
     "data": {
      "text/plain": [
       "<tensorflow.python.keras.callbacks.History at 0x1c42f36a1f0>"
      ]
     },
     "execution_count": 565,
     "metadata": {},
     "output_type": "execute_result"
    }
   ],
   "source": [
    "model.fit(X_train,y_train,validation_data=(X_test,ytest),epochs=100,batch_size=64,verbose=1)"
   ]
  },
  {
   "cell_type": "code",
   "execution_count": 566,
   "metadata": {},
   "outputs": [
    {
     "data": {
      "text/plain": [
       "'2.3.1'"
      ]
     },
     "execution_count": 566,
     "metadata": {},
     "output_type": "execute_result"
    }
   ],
   "source": [
    "tf.__version__"
   ]
  },
  {
   "cell_type": "code",
   "execution_count": 567,
   "metadata": {},
   "outputs": [],
   "source": [
    "### Lets Do the prediction and check performance metrics\n",
    "train_predict=model.predict(X_train)\n",
    "test_predict=model.predict(X_test)"
   ]
  },
  {
   "cell_type": "code",
   "execution_count": 568,
   "metadata": {},
   "outputs": [],
   "source": [
    "##Transformback to original form\n",
    "train_predict=scaler.inverse_transform(train_predict)\n",
    "test_predict=scaler.inverse_transform(test_predict)"
   ]
  },
  {
   "cell_type": "code",
   "execution_count": 569,
   "metadata": {},
   "outputs": [
    {
     "data": {
      "text/plain": [
       "13195.839972182463"
      ]
     },
     "execution_count": 569,
     "metadata": {},
     "output_type": "execute_result"
    }
   ],
   "source": [
    "### Calculate RMSE performance metrics\n",
    "import math\n",
    "from sklearn.metrics import mean_squared_error\n",
    "math.sqrt(mean_squared_error(y_train,train_predict))"
   ]
  },
  {
   "cell_type": "code",
   "execution_count": 570,
   "metadata": {},
   "outputs": [
    {
     "data": {
      "text/plain": [
       "31758.12852815396"
      ]
     },
     "execution_count": 570,
     "metadata": {},
     "output_type": "execute_result"
    }
   ],
   "source": [
    "### Test Data RMSE\n",
    "math.sqrt(mean_squared_error(ytest,test_predict))"
   ]
  },
  {
   "cell_type": "code",
   "execution_count": 590,
   "metadata": {},
   "outputs": [
    {
     "data": {
      "image/png": "[encoded data removed]",
      "text/plain": [
       "<Figure size 1080x432 with 1 Axes>"
      ]
     },
     "metadata": {
      "needs_background": "light"
     },
     "output_type": "display_data"
    }
   ],
   "source": [
    "### Plotting \n",
    "# shift train predictions for plotting\n",
    "look_back=100\n",
    "trainPredictPlot = numpy.empty_like(stock_data)\n",
    "trainPredictPlot[:, :] = np.nan\n",
    "trainPredictPlot[look_back:len(train_predict)+look_back, :] = train_predict\n",
    "# shift test predictions for plotting\n",
    "testPredictPlot = numpy.empty_like(stock_data)\n",
    "testPredictPlot[:, :] = numpy.nan\n",
    "testPredictPlot[len(train_predict)+(look_back*2)+1:len(stock_data)-1, :] = test_predict\n",
    "# plot baseline and predictions\n",
    "plt.figure(figsize=(15,6))\n",
    "plt.plot(scaler.inverse_transform(stock_data), label= \"Stock_data\")\n",
    "plt.plot(trainPredictPlot, label= \"Train_Predict_data\")\n",
    "plt.plot(testPredictPlot, label= \"Test_Predict_data\")\n",
    "plt.legend(loc='upper center', bbox_to_anchor=(0.5, -0.05), fancybox=True, shadow=True, ncol=2)\n",
    "plt.show()"
   ]
  },
  {
   "cell_type": "code",
   "execution_count": 591,
   "metadata": {},
   "outputs": [
    {
     "data": {
      "text/plain": [
       "1718"
      ]
     },
     "execution_count": 591,
     "metadata": {},
     "output_type": "execute_result"
    }
   ],
   "source": [
    "len(test_data)"
   ]
  },
  {
   "cell_type": "code",
   "execution_count": 592,
   "metadata": {},
   "outputs": [
    {
     "data": {
      "text/plain": [
       "(1, 100)"
      ]
     },
     "execution_count": 592,
     "metadata": {},
     "output_type": "execute_result"
    }
   ],
   "source": [
    "x_input=test_data[1618:].reshape(1,-1)\n",
    "x_input.shape"
   ]
  },
  {
   "cell_type": "code",
   "execution_count": 593,
   "metadata": {},
   "outputs": [],
   "source": [
    "temp_input=list(x_input)\n",
    "temp_input=temp_input[0].tolist()"
   ]
  },
  {
   "cell_type": "code",
   "execution_count": 594,
   "metadata": {},
   "outputs": [
    {
     "data": {
      "text/plain": [
       "[0.8003715632358559,\n",
       " 0.8121255890466141,\n",
       " 0.8107737722416172,\n",
       " 0.8169560325791663,\n",
       " 0.8166900691061875,\n",
       " 0.8122267844022817,\n",
       " 0.8250584023478597,\n",
       " 0.8153621371120443,\n",
       " 0.807660238985942,\n",
       " 0.8046908218889848,\n",
       " 0.7893520350684059,\n",
       " 0.8065531951164879,\n",
       " 0.8059881348828668,\n",
       " 0.8143121108813732,\n",
       " 0.8146596951389796,\n",
       " 0.8179124957347167,\n",
       " 0.8230829811224026,\n",
       " 0.8222236729467955,\n",
       " 0.8208642238612519,\n",
       " 0.8109075620762383,\n",
       " 0.8148944111547802,\n",
       " 0.8258714676796829,\n",
       " 0.8278591005999881,\n",
       " 0.818793174433775,\n",
       " 0.8237198748551313,\n",
       " 0.8320953017985073,\n",
       " 0.8331251247713543,\n",
       " 0.8384130580450145,\n",
       " 0.8393221108612867,\n",
       " 0.8474557280871582,\n",
       " 0.8281694213161327,\n",
       " 0.8344335718426642,\n",
       " 0.8386914127391226,\n",
       " 0.8365056092393546,\n",
       " 0.8219375062159925,\n",
       " 0.8233178766644842,\n",
       " 0.8221253507012252,\n",
       " 0.8181847446963343,\n",
       " 0.8330433242305786,\n",
       " 0.8333704360558728,\n",
       " 0.831119533476272,\n",
       " 0.8377333333873092,\n",
       " 0.843675400433484,\n",
       " 0.8362506899657298,\n",
       " 0.8331697511890078,\n",
       " 0.8145118978869662,\n",
       " 0.8076144453026612,\n",
       " 0.8061052234864121,\n",
       " 0.7804791612586438,\n",
       " 0.7996744192419509,\n",
       " 0.8133048256976046,\n",
       " 0.8131115037069313,\n",
       " 0.8152885975385995,\n",
       " 0.8297500277008533,\n",
       " 0.836109267850562,\n",
       " 0.8499213231808838,\n",
       " 0.8569179958720312,\n",
       " 0.863899583528366,\n",
       " 0.8714120205132383,\n",
       " 0.8733500883191594,\n",
       " 0.87407901880882,\n",
       " 0.8779689823117736,\n",
       " 0.8534575966937404,\n",
       " 0.8593093330573208,\n",
       " 0.8696216603111238,\n",
       " 0.8722138618895593,\n",
       " 0.875959260533026,\n",
       " 0.8725383697792444,\n",
       " 0.8754579525873295,\n",
       " 0.8630451239415483,\n",
       " 0.8717019584452778,\n",
       " 0.8579181875839629,\n",
       " 0.8539504641458251,\n",
       " 0.8508292986096029,\n",
       " 0.8541280726447688,\n",
       " 0.865703053286601,\n",
       " 0.8738636081895714,\n",
       " 0.8905064421934399,\n",
       " 0.9032157634343869,\n",
       " 0.9194069444850171,\n",
       " 0.9350429422357531,\n",
       " 0.9423072844742167,\n",
       " 0.9368713741923949,\n",
       " 0.9388438321998135,\n",
       " 0.9505604147129617,\n",
       " 0.9557862118949604,\n",
       " 0.9424518493337036,\n",
       " 0.9489407488343679,\n",
       " 0.9534208246474235,\n",
       " 0.9636699384220117,\n",
       " 0.9476960538211155,\n",
       " 0.9576179661222023,\n",
       " 0.9550889780229813,\n",
       " 0.966713883061627,\n",
       " 0.9658541257255168,\n",
       " 0.966189947448778,\n",
       " 0.9764627662780717,\n",
       " 0.9844487657782107,\n",
       " 0.9886218431457222,\n",
       " 0.9999999999999999]"
      ]
     },
     "execution_count": 594,
     "metadata": {},
     "output_type": "execute_result"
    }
   ],
   "source": [
    "temp_input"
   ]
  },
  {
   "cell_type": "code",
   "execution_count": 595,
   "metadata": {},
   "outputs": [
    {
     "name": "stdout",
     "output_type": "stream",
     "text": [
      "[0.97577214]\n",
      "101\n",
      "1 day input [0.81212559 0.81077377 0.81695603 0.81669007 0.81222678 0.8250584\n",
      " 0.81536214 0.80766024 0.80469082 0.78935204 0.8065532  0.80598813\n",
      " 0.81431211 0.8146597  0.8179125  0.82308298 0.82222367 0.82086422\n",
      " 0.81090756 0.81489441 0.82587147 0.8278591  0.81879317 0.82371987\n",
      " 0.8320953  0.83312512 0.83841306 0.83932211 0.84745573 0.82816942\n",
      " 0.83443357 0.83869141 0.83650561 0.82193751 0.82331788 0.82212535\n",
      " 0.81818474 0.83304332 0.83337044 0.83111953 0.83773333 0.8436754\n",
      " 0.83625069 0.83316975 0.8145119  0.80761445 0.80610522 0.78047916\n",
      " 0.79967442 0.81330483 0.8131115  0.8152886  0.82975003 0.83610927\n",
      " 0.84992132 0.856918   0.86389958 0.87141202 0.87335009 0.87407902\n",
      " 0.87796898 0.8534576  0.85930933 0.86962166 0.87221386 0.87595926\n",
      " 0.87253837 0.87545795 0.86304512 0.87170196 0.85791819 0.85395046\n",
      " 0.8508293  0.85412807 0.86570305 0.87386361 0.89050644 0.90321576\n",
      " 0.91940694 0.93504294 0.94230728 0.93687137 0.93884383 0.95056041\n",
      " 0.95578621 0.94245185 0.94894075 0.95342082 0.96366994 0.94769605\n",
      " 0.95761797 0.95508898 0.96671388 0.96585413 0.96618995 0.97646277\n",
      " 0.98444877 0.98862184 1.         0.97577214]\n",
      "1 day output [[0.92258453]]\n",
      "2 day input [0.81077377 0.81695603 0.81669007 0.81222678 0.8250584  0.81536214\n",
      " 0.80766024 0.80469082 0.78935204 0.8065532  0.80598813 0.81431211\n",
      " 0.8146597  0.8179125  0.82308298 0.82222367 0.82086422 0.81090756\n",
      " 0.81489441 0.82587147 0.8278591  0.81879317 0.82371987 0.8320953\n",
      " 0.83312512 0.83841306 0.83932211 0.84745573 0.82816942 0.83443357\n",
      " 0.83869141 0.83650561 0.82193751 0.82331788 0.82212535 0.81818474\n",
      " 0.83304332 0.83337044 0.83111953 0.83773333 0.8436754  0.83625069\n",
      " 0.83316975 0.8145119  0.80761445 0.80610522 0.78047916 0.79967442\n",
      " 0.81330483 0.8131115  0.8152886  0.82975003 0.83610927 0.84992132\n",
      " 0.856918   0.86389958 0.87141202 0.87335009 0.87407902 0.87796898\n",
      " 0.8534576  0.85930933 0.86962166 0.87221386 0.87595926 0.87253837\n",
      " 0.87545795 0.86304512 0.87170196 0.85791819 0.85395046 0.8508293\n",
      " 0.85412807 0.86570305 0.87386361 0.89050644 0.90321576 0.91940694\n",
      " 0.93504294 0.94230728 0.93687137 0.93884383 0.95056041 0.95578621\n",
      " 0.94245185 0.94894075 0.95342082 0.96366994 0.94769605 0.95761797\n",
      " 0.95508898 0.96671388 0.96585413 0.96618995 0.97646277 0.98444877\n",
      " 0.98862184 1.         0.97577214 0.92258453]\n",
      "2 day output [[0.8714223]]\n",
      "3 day input [0.81695603 0.81669007 0.81222678 0.8250584  0.81536214 0.80766024\n",
      " 0.80469082 0.78935204 0.8065532  0.80598813 0.81431211 0.8146597\n",
      " 0.8179125  0.82308298 0.82222367 0.82086422 0.81090756 0.81489441\n",
      " 0.82587147 0.8278591  0.81879317 0.82371987 0.8320953  0.83312512\n",
      " 0.83841306 0.83932211 0.84745573 0.82816942 0.83443357 0.83869141\n",
      " 0.83650561 0.82193751 0.82331788 0.82212535 0.81818474 0.83304332\n",
      " 0.83337044 0.83111953 0.83773333 0.8436754  0.83625069 0.83316975\n",
      " 0.8145119  0.80761445 0.80610522 0.78047916 0.79967442 0.81330483\n",
      " 0.8131115  0.8152886  0.82975003 0.83610927 0.84992132 0.856918\n",
      " 0.86389958 0.87141202 0.87335009 0.87407902 0.87796898 0.8534576\n",
      " 0.85930933 0.86962166 0.87221386 0.87595926 0.87253837 0.87545795\n",
      " 0.86304512 0.87170196 0.85791819 0.85395046 0.8508293  0.85412807\n",
      " 0.86570305 0.87386361 0.89050644 0.90321576 0.91940694 0.93504294\n",
      " 0.94230728 0.93687137 0.93884383 0.95056041 0.95578621 0.94245185\n",
      " 0.94894075 0.95342082 0.96366994 0.94769605 0.95761797 0.95508898\n",
      " 0.96671388 0.96585413 0.96618995 0.97646277 0.98444877 0.98862184\n",
      " 1.         0.97577214 0.92258453 0.87142229]\n",
      "3 day output [[0.83613247]]\n",
      "4 day input [0.81669007 0.81222678 0.8250584  0.81536214 0.80766024 0.80469082\n",
      " 0.78935204 0.8065532  0.80598813 0.81431211 0.8146597  0.8179125\n",
      " 0.82308298 0.82222367 0.82086422 0.81090756 0.81489441 0.82587147\n",
      " 0.8278591  0.81879317 0.82371987 0.8320953  0.83312512 0.83841306\n",
      " 0.83932211 0.84745573 0.82816942 0.83443357 0.83869141 0.83650561\n",
      " 0.82193751 0.82331788 0.82212535 0.81818474 0.83304332 0.83337044\n",
      " 0.83111953 0.83773333 0.8436754  0.83625069 0.83316975 0.8145119\n",
      " 0.80761445 0.80610522 0.78047916 0.79967442 0.81330483 0.8131115\n",
      " 0.8152886  0.82975003 0.83610927 0.84992132 0.856918   0.86389958\n",
      " 0.87141202 0.87335009 0.87407902 0.87796898 0.8534576  0.85930933\n",
      " 0.86962166 0.87221386 0.87595926 0.87253837 0.87545795 0.86304512\n",
      " 0.87170196 0.85791819 0.85395046 0.8508293  0.85412807 0.86570305\n",
      " 0.87386361 0.89050644 0.90321576 0.91940694 0.93504294 0.94230728\n",
      " 0.93687137 0.93884383 0.95056041 0.95578621 0.94245185 0.94894075\n",
      " 0.95342082 0.96366994 0.94769605 0.95761797 0.95508898 0.96671388\n",
      " 0.96585413 0.96618995 0.97646277 0.98444877 0.98862184 1.\n",
      " 0.97577214 0.92258453 0.87142229 0.83613247]\n",
      "4 day output [[0.81692463]]\n",
      "5 day input [0.81222678 0.8250584  0.81536214 0.80766024 0.80469082 0.78935204\n",
      " 0.8065532  0.80598813 0.81431211 0.8146597  0.8179125  0.82308298\n",
      " 0.82222367 0.82086422 0.81090756 0.81489441 0.82587147 0.8278591\n",
      " 0.81879317 0.82371987 0.8320953  0.83312512 0.83841306 0.83932211\n",
      " 0.84745573 0.82816942 0.83443357 0.83869141 0.83650561 0.82193751\n",
      " 0.82331788 0.82212535 0.81818474 0.83304332 0.83337044 0.83111953\n",
      " 0.83773333 0.8436754  0.83625069 0.83316975 0.8145119  0.80761445\n",
      " 0.80610522 0.78047916 0.79967442 0.81330483 0.8131115  0.8152886\n",
      " 0.82975003 0.83610927 0.84992132 0.856918   0.86389958 0.87141202\n",
      " 0.87335009 0.87407902 0.87796898 0.8534576  0.85930933 0.86962166\n",
      " 0.87221386 0.87595926 0.87253837 0.87545795 0.86304512 0.87170196\n",
      " 0.85791819 0.85395046 0.8508293  0.85412807 0.86570305 0.87386361\n",
      " 0.89050644 0.90321576 0.91940694 0.93504294 0.94230728 0.93687137\n",
      " 0.93884383 0.95056041 0.95578621 0.94245185 0.94894075 0.95342082\n",
      " 0.96366994 0.94769605 0.95761797 0.95508898 0.96671388 0.96585413\n",
      " 0.96618995 0.97646277 0.98444877 0.98862184 1.         0.97577214\n",
      " 0.92258453 0.87142229 0.83613247 0.81692463]\n",
      "5 day output [[0.8066648]]\n",
      "6 day input [0.8250584  0.81536214 0.80766024 0.80469082 0.78935204 0.8065532\n",
      " 0.80598813 0.81431211 0.8146597  0.8179125  0.82308298 0.82222367\n",
      " 0.82086422 0.81090756 0.81489441 0.82587147 0.8278591  0.81879317\n",
      " 0.82371987 0.8320953  0.83312512 0.83841306 0.83932211 0.84745573\n",
      " 0.82816942 0.83443357 0.83869141 0.83650561 0.82193751 0.82331788\n",
      " 0.82212535 0.81818474 0.83304332 0.83337044 0.83111953 0.83773333\n",
      " 0.8436754  0.83625069 0.83316975 0.8145119  0.80761445 0.80610522\n",
      " 0.78047916 0.79967442 0.81330483 0.8131115  0.8152886  0.82975003\n",
      " 0.83610927 0.84992132 0.856918   0.86389958 0.87141202 0.87335009\n",
      " 0.87407902 0.87796898 0.8534576  0.85930933 0.86962166 0.87221386\n",
      " 0.87595926 0.87253837 0.87545795 0.86304512 0.87170196 0.85791819\n",
      " 0.85395046 0.8508293  0.85412807 0.86570305 0.87386361 0.89050644\n",
      " 0.90321576 0.91940694 0.93504294 0.94230728 0.93687137 0.93884383\n",
      " 0.95056041 0.95578621 0.94245185 0.94894075 0.95342082 0.96366994\n",
      " 0.94769605 0.95761797 0.95508898 0.96671388 0.96585413 0.96618995\n",
      " 0.97646277 0.98444877 0.98862184 1.         0.97577214 0.92258453\n",
      " 0.87142229 0.83613247 0.81692463 0.80666482]\n",
      "6 day output [[0.7972843]]\n",
      "7 day input [0.81536214 0.80766024 0.80469082 0.78935204 0.8065532  0.80598813\n",
      " 0.81431211 0.8146597  0.8179125  0.82308298 0.82222367 0.82086422\n",
      " 0.81090756 0.81489441 0.82587147 0.8278591  0.81879317 0.82371987\n",
      " 0.8320953  0.83312512 0.83841306 0.83932211 0.84745573 0.82816942\n",
      " 0.83443357 0.83869141 0.83650561 0.82193751 0.82331788 0.82212535\n",
      " 0.81818474 0.83304332 0.83337044 0.83111953 0.83773333 0.8436754\n",
      " 0.83625069 0.83316975 0.8145119  0.80761445 0.80610522 0.78047916\n",
      " 0.79967442 0.81330483 0.8131115  0.8152886  0.82975003 0.83610927\n",
      " 0.84992132 0.856918   0.86389958 0.87141202 0.87335009 0.87407902\n",
      " 0.87796898 0.8534576  0.85930933 0.86962166 0.87221386 0.87595926\n",
      " 0.87253837 0.87545795 0.86304512 0.87170196 0.85791819 0.85395046\n",
      " 0.8508293  0.85412807 0.86570305 0.87386361 0.89050644 0.90321576\n",
      " 0.91940694 0.93504294 0.94230728 0.93687137 0.93884383 0.95056041\n",
      " 0.95578621 0.94245185 0.94894075 0.95342082 0.96366994 0.94769605\n",
      " 0.95761797 0.95508898 0.96671388 0.96585413 0.96618995 0.97646277\n",
      " 0.98444877 0.98862184 1.         0.97577214 0.92258453 0.87142229\n",
      " 0.83613247 0.81692463 0.80666482 0.79728431]\n",
      "7 day output [[0.7838134]]\n",
      "8 day input [0.80766024 0.80469082 0.78935204 0.8065532  0.80598813 0.81431211\n",
      " 0.8146597  0.8179125  0.82308298 0.82222367 0.82086422 0.81090756\n",
      " 0.81489441 0.82587147 0.8278591  0.81879317 0.82371987 0.8320953\n",
      " 0.83312512 0.83841306 0.83932211 0.84745573 0.82816942 0.83443357\n",
      " 0.83869141 0.83650561 0.82193751 0.82331788 0.82212535 0.81818474\n",
      " 0.83304332 0.83337044 0.83111953 0.83773333 0.8436754  0.83625069\n",
      " 0.83316975 0.8145119  0.80761445 0.80610522 0.78047916 0.79967442\n",
      " 0.81330483 0.8131115  0.8152886  0.82975003 0.83610927 0.84992132\n",
      " 0.856918   0.86389958 0.87141202 0.87335009 0.87407902 0.87796898\n",
      " 0.8534576  0.85930933 0.86962166 0.87221386 0.87595926 0.87253837\n",
      " 0.87545795 0.86304512 0.87170196 0.85791819 0.85395046 0.8508293\n",
      " 0.85412807 0.86570305 0.87386361 0.89050644 0.90321576 0.91940694\n",
      " 0.93504294 0.94230728 0.93687137 0.93884383 0.95056041 0.95578621\n",
      " 0.94245185 0.94894075 0.95342082 0.96366994 0.94769605 0.95761797\n",
      " 0.95508898 0.96671388 0.96585413 0.96618995 0.97646277 0.98444877\n",
      " 0.98862184 1.         0.97577214 0.92258453 0.87142229 0.83613247\n",
      " 0.81692463 0.80666482 0.79728431 0.78381342]\n",
      "8 day output [[0.7653258]]\n",
      "9 day input [0.80469082 0.78935204 0.8065532  0.80598813 0.81431211 0.8146597\n",
      " 0.8179125  0.82308298 0.82222367 0.82086422 0.81090756 0.81489441\n",
      " 0.82587147 0.8278591  0.81879317 0.82371987 0.8320953  0.83312512\n",
      " 0.83841306 0.83932211 0.84745573 0.82816942 0.83443357 0.83869141\n",
      " 0.83650561 0.82193751 0.82331788 0.82212535 0.81818474 0.83304332\n",
      " 0.83337044 0.83111953 0.83773333 0.8436754  0.83625069 0.83316975\n",
      " 0.8145119  0.80761445 0.80610522 0.78047916 0.79967442 0.81330483\n",
      " 0.8131115  0.8152886  0.82975003 0.83610927 0.84992132 0.856918\n",
      " 0.86389958 0.87141202 0.87335009 0.87407902 0.87796898 0.8534576\n",
      " 0.85930933 0.86962166 0.87221386 0.87595926 0.87253837 0.87545795\n",
      " 0.86304512 0.87170196 0.85791819 0.85395046 0.8508293  0.85412807\n",
      " 0.86570305 0.87386361 0.89050644 0.90321576 0.91940694 0.93504294\n",
      " 0.94230728 0.93687137 0.93884383 0.95056041 0.95578621 0.94245185\n",
      " 0.94894075 0.95342082 0.96366994 0.94769605 0.95761797 0.95508898\n",
      " 0.96671388 0.96585413 0.96618995 0.97646277 0.98444877 0.98862184\n",
      " 1.         0.97577214 0.92258453 0.87142229 0.83613247 0.81692463\n",
      " 0.80666482 0.79728431 0.78381342 0.76532578]\n",
      "9 day output [[0.74377406]]\n",
      "10 day input [0.78935204 0.8065532  0.80598813 0.81431211 0.8146597  0.8179125\n",
      " 0.82308298 0.82222367 0.82086422 0.81090756 0.81489441 0.82587147\n",
      " 0.8278591  0.81879317 0.82371987 0.8320953  0.83312512 0.83841306\n",
      " 0.83932211 0.84745573 0.82816942 0.83443357 0.83869141 0.83650561\n",
      " 0.82193751 0.82331788 0.82212535 0.81818474 0.83304332 0.83337044\n",
      " 0.83111953 0.83773333 0.8436754  0.83625069 0.83316975 0.8145119\n",
      " 0.80761445 0.80610522 0.78047916 0.79967442 0.81330483 0.8131115\n",
      " 0.8152886  0.82975003 0.83610927 0.84992132 0.856918   0.86389958\n",
      " 0.87141202 0.87335009 0.87407902 0.87796898 0.8534576  0.85930933\n",
      " 0.86962166 0.87221386 0.87595926 0.87253837 0.87545795 0.86304512\n",
      " 0.87170196 0.85791819 0.85395046 0.8508293  0.85412807 0.86570305\n",
      " 0.87386361 0.89050644 0.90321576 0.91940694 0.93504294 0.94230728\n",
      " 0.93687137 0.93884383 0.95056041 0.95578621 0.94245185 0.94894075\n",
      " 0.95342082 0.96366994 0.94769605 0.95761797 0.95508898 0.96671388\n",
      " 0.96585413 0.96618995 0.97646277 0.98444877 0.98862184 1.\n",
      " 0.97577214 0.92258453 0.87142229 0.83613247 0.81692463 0.80666482\n",
      " 0.79728431 0.78381342 0.76532578 0.74377406]\n"
     ]
    },
    {
     "name": "stdout",
     "output_type": "stream",
     "text": [
      "10 day output [[0.7220743]]\n",
      "11 day input [0.8065532  0.80598813 0.81431211 0.8146597  0.8179125  0.82308298\n",
      " 0.82222367 0.82086422 0.81090756 0.81489441 0.82587147 0.8278591\n",
      " 0.81879317 0.82371987 0.8320953  0.83312512 0.83841306 0.83932211\n",
      " 0.84745573 0.82816942 0.83443357 0.83869141 0.83650561 0.82193751\n",
      " 0.82331788 0.82212535 0.81818474 0.83304332 0.83337044 0.83111953\n",
      " 0.83773333 0.8436754  0.83625069 0.83316975 0.8145119  0.80761445\n",
      " 0.80610522 0.78047916 0.79967442 0.81330483 0.8131115  0.8152886\n",
      " 0.82975003 0.83610927 0.84992132 0.856918   0.86389958 0.87141202\n",
      " 0.87335009 0.87407902 0.87796898 0.8534576  0.85930933 0.86962166\n",
      " 0.87221386 0.87595926 0.87253837 0.87545795 0.86304512 0.87170196\n",
      " 0.85791819 0.85395046 0.8508293  0.85412807 0.86570305 0.87386361\n",
      " 0.89050644 0.90321576 0.91940694 0.93504294 0.94230728 0.93687137\n",
      " 0.93884383 0.95056041 0.95578621 0.94245185 0.94894075 0.95342082\n",
      " 0.96366994 0.94769605 0.95761797 0.95508898 0.96671388 0.96585413\n",
      " 0.96618995 0.97646277 0.98444877 0.98862184 1.         0.97577214\n",
      " 0.92258453 0.87142229 0.83613247 0.81692463 0.80666482 0.79728431\n",
      " 0.78381342 0.76532578 0.74377406 0.72207427]\n",
      "11 day output [[0.70251113]]\n",
      "12 day input [0.80598813 0.81431211 0.8146597  0.8179125  0.82308298 0.82222367\n",
      " 0.82086422 0.81090756 0.81489441 0.82587147 0.8278591  0.81879317\n",
      " 0.82371987 0.8320953  0.83312512 0.83841306 0.83932211 0.84745573\n",
      " 0.82816942 0.83443357 0.83869141 0.83650561 0.82193751 0.82331788\n",
      " 0.82212535 0.81818474 0.83304332 0.83337044 0.83111953 0.83773333\n",
      " 0.8436754  0.83625069 0.83316975 0.8145119  0.80761445 0.80610522\n",
      " 0.78047916 0.79967442 0.81330483 0.8131115  0.8152886  0.82975003\n",
      " 0.83610927 0.84992132 0.856918   0.86389958 0.87141202 0.87335009\n",
      " 0.87407902 0.87796898 0.8534576  0.85930933 0.86962166 0.87221386\n",
      " 0.87595926 0.87253837 0.87545795 0.86304512 0.87170196 0.85791819\n",
      " 0.85395046 0.8508293  0.85412807 0.86570305 0.87386361 0.89050644\n",
      " 0.90321576 0.91940694 0.93504294 0.94230728 0.93687137 0.93884383\n",
      " 0.95056041 0.95578621 0.94245185 0.94894075 0.95342082 0.96366994\n",
      " 0.94769605 0.95761797 0.95508898 0.96671388 0.96585413 0.96618995\n",
      " 0.97646277 0.98444877 0.98862184 1.         0.97577214 0.92258453\n",
      " 0.87142229 0.83613247 0.81692463 0.80666482 0.79728431 0.78381342\n",
      " 0.76532578 0.74377406 0.72207427 0.70251113]\n",
      "12 day output [[0.686018]]\n",
      "13 day input [0.81431211 0.8146597  0.8179125  0.82308298 0.82222367 0.82086422\n",
      " 0.81090756 0.81489441 0.82587147 0.8278591  0.81879317 0.82371987\n",
      " 0.8320953  0.83312512 0.83841306 0.83932211 0.84745573 0.82816942\n",
      " 0.83443357 0.83869141 0.83650561 0.82193751 0.82331788 0.82212535\n",
      " 0.81818474 0.83304332 0.83337044 0.83111953 0.83773333 0.8436754\n",
      " 0.83625069 0.83316975 0.8145119  0.80761445 0.80610522 0.78047916\n",
      " 0.79967442 0.81330483 0.8131115  0.8152886  0.82975003 0.83610927\n",
      " 0.84992132 0.856918   0.86389958 0.87141202 0.87335009 0.87407902\n",
      " 0.87796898 0.8534576  0.85930933 0.86962166 0.87221386 0.87595926\n",
      " 0.87253837 0.87545795 0.86304512 0.87170196 0.85791819 0.85395046\n",
      " 0.8508293  0.85412807 0.86570305 0.87386361 0.89050644 0.90321576\n",
      " 0.91940694 0.93504294 0.94230728 0.93687137 0.93884383 0.95056041\n",
      " 0.95578621 0.94245185 0.94894075 0.95342082 0.96366994 0.94769605\n",
      " 0.95761797 0.95508898 0.96671388 0.96585413 0.96618995 0.97646277\n",
      " 0.98444877 0.98862184 1.         0.97577214 0.92258453 0.87142229\n",
      " 0.83613247 0.81692463 0.80666482 0.79728431 0.78381342 0.76532578\n",
      " 0.74377406 0.72207427 0.70251113 0.68601799]\n",
      "13 day output [[0.67229885]]\n",
      "14 day input [0.8146597  0.8179125  0.82308298 0.82222367 0.82086422 0.81090756\n",
      " 0.81489441 0.82587147 0.8278591  0.81879317 0.82371987 0.8320953\n",
      " 0.83312512 0.83841306 0.83932211 0.84745573 0.82816942 0.83443357\n",
      " 0.83869141 0.83650561 0.82193751 0.82331788 0.82212535 0.81818474\n",
      " 0.83304332 0.83337044 0.83111953 0.83773333 0.8436754  0.83625069\n",
      " 0.83316975 0.8145119  0.80761445 0.80610522 0.78047916 0.79967442\n",
      " 0.81330483 0.8131115  0.8152886  0.82975003 0.83610927 0.84992132\n",
      " 0.856918   0.86389958 0.87141202 0.87335009 0.87407902 0.87796898\n",
      " 0.8534576  0.85930933 0.86962166 0.87221386 0.87595926 0.87253837\n",
      " 0.87545795 0.86304512 0.87170196 0.85791819 0.85395046 0.8508293\n",
      " 0.85412807 0.86570305 0.87386361 0.89050644 0.90321576 0.91940694\n",
      " 0.93504294 0.94230728 0.93687137 0.93884383 0.95056041 0.95578621\n",
      " 0.94245185 0.94894075 0.95342082 0.96366994 0.94769605 0.95761797\n",
      " 0.95508898 0.96671388 0.96585413 0.96618995 0.97646277 0.98444877\n",
      " 0.98862184 1.         0.97577214 0.92258453 0.87142229 0.83613247\n",
      " 0.81692463 0.80666482 0.79728431 0.78381342 0.76532578 0.74377406\n",
      " 0.72207427 0.70251113 0.68601799 0.67229885]\n",
      "14 day output [[0.6604117]]\n",
      "15 day input [0.8179125  0.82308298 0.82222367 0.82086422 0.81090756 0.81489441\n",
      " 0.82587147 0.8278591  0.81879317 0.82371987 0.8320953  0.83312512\n",
      " 0.83841306 0.83932211 0.84745573 0.82816942 0.83443357 0.83869141\n",
      " 0.83650561 0.82193751 0.82331788 0.82212535 0.81818474 0.83304332\n",
      " 0.83337044 0.83111953 0.83773333 0.8436754  0.83625069 0.83316975\n",
      " 0.8145119  0.80761445 0.80610522 0.78047916 0.79967442 0.81330483\n",
      " 0.8131115  0.8152886  0.82975003 0.83610927 0.84992132 0.856918\n",
      " 0.86389958 0.87141202 0.87335009 0.87407902 0.87796898 0.8534576\n",
      " 0.85930933 0.86962166 0.87221386 0.87595926 0.87253837 0.87545795\n",
      " 0.86304512 0.87170196 0.85791819 0.85395046 0.8508293  0.85412807\n",
      " 0.86570305 0.87386361 0.89050644 0.90321576 0.91940694 0.93504294\n",
      " 0.94230728 0.93687137 0.93884383 0.95056041 0.95578621 0.94245185\n",
      " 0.94894075 0.95342082 0.96366994 0.94769605 0.95761797 0.95508898\n",
      " 0.96671388 0.96585413 0.96618995 0.97646277 0.98444877 0.98862184\n",
      " 1.         0.97577214 0.92258453 0.87142229 0.83613247 0.81692463\n",
      " 0.80666482 0.79728431 0.78381342 0.76532578 0.74377406 0.72207427\n",
      " 0.70251113 0.68601799 0.67229885 0.66041172]\n",
      "15 day output [[0.64937145]]\n",
      "16 day input [0.82308298 0.82222367 0.82086422 0.81090756 0.81489441 0.82587147\n",
      " 0.8278591  0.81879317 0.82371987 0.8320953  0.83312512 0.83841306\n",
      " 0.83932211 0.84745573 0.82816942 0.83443357 0.83869141 0.83650561\n",
      " 0.82193751 0.82331788 0.82212535 0.81818474 0.83304332 0.83337044\n",
      " 0.83111953 0.83773333 0.8436754  0.83625069 0.83316975 0.8145119\n",
      " 0.80761445 0.80610522 0.78047916 0.79967442 0.81330483 0.8131115\n",
      " 0.8152886  0.82975003 0.83610927 0.84992132 0.856918   0.86389958\n",
      " 0.87141202 0.87335009 0.87407902 0.87796898 0.8534576  0.85930933\n",
      " 0.86962166 0.87221386 0.87595926 0.87253837 0.87545795 0.86304512\n",
      " 0.87170196 0.85791819 0.85395046 0.8508293  0.85412807 0.86570305\n",
      " 0.87386361 0.89050644 0.90321576 0.91940694 0.93504294 0.94230728\n",
      " 0.93687137 0.93884383 0.95056041 0.95578621 0.94245185 0.94894075\n",
      " 0.95342082 0.96366994 0.94769605 0.95761797 0.95508898 0.96671388\n",
      " 0.96585413 0.96618995 0.97646277 0.98444877 0.98862184 1.\n",
      " 0.97577214 0.92258453 0.87142229 0.83613247 0.81692463 0.80666482\n",
      " 0.79728431 0.78381342 0.76532578 0.74377406 0.72207427 0.70251113\n",
      " 0.68601799 0.67229885 0.66041172 0.64937145]\n",
      "16 day output [[0.6385239]]\n",
      "17 day input [0.82222367 0.82086422 0.81090756 0.81489441 0.82587147 0.8278591\n",
      " 0.81879317 0.82371987 0.8320953  0.83312512 0.83841306 0.83932211\n",
      " 0.84745573 0.82816942 0.83443357 0.83869141 0.83650561 0.82193751\n",
      " 0.82331788 0.82212535 0.81818474 0.83304332 0.83337044 0.83111953\n",
      " 0.83773333 0.8436754  0.83625069 0.83316975 0.8145119  0.80761445\n",
      " 0.80610522 0.78047916 0.79967442 0.81330483 0.8131115  0.8152886\n",
      " 0.82975003 0.83610927 0.84992132 0.856918   0.86389958 0.87141202\n",
      " 0.87335009 0.87407902 0.87796898 0.8534576  0.85930933 0.86962166\n",
      " 0.87221386 0.87595926 0.87253837 0.87545795 0.86304512 0.87170196\n",
      " 0.85791819 0.85395046 0.8508293  0.85412807 0.86570305 0.87386361\n",
      " 0.89050644 0.90321576 0.91940694 0.93504294 0.94230728 0.93687137\n",
      " 0.93884383 0.95056041 0.95578621 0.94245185 0.94894075 0.95342082\n",
      " 0.96366994 0.94769605 0.95761797 0.95508898 0.96671388 0.96585413\n",
      " 0.96618995 0.97646277 0.98444877 0.98862184 1.         0.97577214\n",
      " 0.92258453 0.87142229 0.83613247 0.81692463 0.80666482 0.79728431\n",
      " 0.78381342 0.76532578 0.74377406 0.72207427 0.70251113 0.68601799\n",
      " 0.67229885 0.66041172 0.64937145 0.63852388]\n",
      "17 day output [[0.6276439]]\n",
      "18 day input [0.82086422 0.81090756 0.81489441 0.82587147 0.8278591  0.81879317\n",
      " 0.82371987 0.8320953  0.83312512 0.83841306 0.83932211 0.84745573\n",
      " 0.82816942 0.83443357 0.83869141 0.83650561 0.82193751 0.82331788\n",
      " 0.82212535 0.81818474 0.83304332 0.83337044 0.83111953 0.83773333\n",
      " 0.8436754  0.83625069 0.83316975 0.8145119  0.80761445 0.80610522\n",
      " 0.78047916 0.79967442 0.81330483 0.8131115  0.8152886  0.82975003\n",
      " 0.83610927 0.84992132 0.856918   0.86389958 0.87141202 0.87335009\n",
      " 0.87407902 0.87796898 0.8534576  0.85930933 0.86962166 0.87221386\n",
      " 0.87595926 0.87253837 0.87545795 0.86304512 0.87170196 0.85791819\n",
      " 0.85395046 0.8508293  0.85412807 0.86570305 0.87386361 0.89050644\n",
      " 0.90321576 0.91940694 0.93504294 0.94230728 0.93687137 0.93884383\n",
      " 0.95056041 0.95578621 0.94245185 0.94894075 0.95342082 0.96366994\n",
      " 0.94769605 0.95761797 0.95508898 0.96671388 0.96585413 0.96618995\n",
      " 0.97646277 0.98444877 0.98862184 1.         0.97577214 0.92258453\n",
      " 0.87142229 0.83613247 0.81692463 0.80666482 0.79728431 0.78381342\n",
      " 0.76532578 0.74377406 0.72207427 0.70251113 0.68601799 0.67229885\n",
      " 0.66041172 0.64937145 0.63852388 0.62764388]\n",
      "18 day output [[0.6168362]]\n",
      "19 day input [0.81090756 0.81489441 0.82587147 0.8278591  0.81879317 0.82371987\n",
      " 0.8320953  0.83312512 0.83841306 0.83932211 0.84745573 0.82816942\n",
      " 0.83443357 0.83869141 0.83650561 0.82193751 0.82331788 0.82212535\n",
      " 0.81818474 0.83304332 0.83337044 0.83111953 0.83773333 0.8436754\n",
      " 0.83625069 0.83316975 0.8145119  0.80761445 0.80610522 0.78047916\n",
      " 0.79967442 0.81330483 0.8131115  0.8152886  0.82975003 0.83610927\n",
      " 0.84992132 0.856918   0.86389958 0.87141202 0.87335009 0.87407902\n",
      " 0.87796898 0.8534576  0.85930933 0.86962166 0.87221386 0.87595926\n",
      " 0.87253837 0.87545795 0.86304512 0.87170196 0.85791819 0.85395046\n",
      " 0.8508293  0.85412807 0.86570305 0.87386361 0.89050644 0.90321576\n",
      " 0.91940694 0.93504294 0.94230728 0.93687137 0.93884383 0.95056041\n",
      " 0.95578621 0.94245185 0.94894075 0.95342082 0.96366994 0.94769605\n",
      " 0.95761797 0.95508898 0.96671388 0.96585413 0.96618995 0.97646277\n",
      " 0.98444877 0.98862184 1.         0.97577214 0.92258453 0.87142229\n",
      " 0.83613247 0.81692463 0.80666482 0.79728431 0.78381342 0.76532578\n",
      " 0.74377406 0.72207427 0.70251113 0.68601799 0.67229885 0.66041172\n",
      " 0.64937145 0.63852388 0.62764388 0.61683619]\n",
      "19 day output [[0.606355]]\n",
      "20 day input [0.81489441 0.82587147 0.8278591  0.81879317 0.82371987 0.8320953\n",
      " 0.83312512 0.83841306 0.83932211 0.84745573 0.82816942 0.83443357\n",
      " 0.83869141 0.83650561 0.82193751 0.82331788 0.82212535 0.81818474\n",
      " 0.83304332 0.83337044 0.83111953 0.83773333 0.8436754  0.83625069\n",
      " 0.83316975 0.8145119  0.80761445 0.80610522 0.78047916 0.79967442\n",
      " 0.81330483 0.8131115  0.8152886  0.82975003 0.83610927 0.84992132\n",
      " 0.856918   0.86389958 0.87141202 0.87335009 0.87407902 0.87796898\n",
      " 0.8534576  0.85930933 0.86962166 0.87221386 0.87595926 0.87253837\n",
      " 0.87545795 0.86304512 0.87170196 0.85791819 0.85395046 0.8508293\n",
      " 0.85412807 0.86570305 0.87386361 0.89050644 0.90321576 0.91940694\n",
      " 0.93504294 0.94230728 0.93687137 0.93884383 0.95056041 0.95578621\n",
      " 0.94245185 0.94894075 0.95342082 0.96366994 0.94769605 0.95761797\n",
      " 0.95508898 0.96671388 0.96585413 0.96618995 0.97646277 0.98444877\n",
      " 0.98862184 1.         0.97577214 0.92258453 0.87142229 0.83613247\n",
      " 0.81692463 0.80666482 0.79728431 0.78381342 0.76532578 0.74377406\n",
      " 0.72207427 0.70251113 0.68601799 0.67229885 0.66041172 0.64937145\n",
      " 0.63852388 0.62764388 0.61683619 0.60635501]\n"
     ]
    },
    {
     "name": "stdout",
     "output_type": "stream",
     "text": [
      "20 day output [[0.5964367]]\n",
      "21 day input [0.82587147 0.8278591  0.81879317 0.82371987 0.8320953  0.83312512\n",
      " 0.83841306 0.83932211 0.84745573 0.82816942 0.83443357 0.83869141\n",
      " 0.83650561 0.82193751 0.82331788 0.82212535 0.81818474 0.83304332\n",
      " 0.83337044 0.83111953 0.83773333 0.8436754  0.83625069 0.83316975\n",
      " 0.8145119  0.80761445 0.80610522 0.78047916 0.79967442 0.81330483\n",
      " 0.8131115  0.8152886  0.82975003 0.83610927 0.84992132 0.856918\n",
      " 0.86389958 0.87141202 0.87335009 0.87407902 0.87796898 0.8534576\n",
      " 0.85930933 0.86962166 0.87221386 0.87595926 0.87253837 0.87545795\n",
      " 0.86304512 0.87170196 0.85791819 0.85395046 0.8508293  0.85412807\n",
      " 0.86570305 0.87386361 0.89050644 0.90321576 0.91940694 0.93504294\n",
      " 0.94230728 0.93687137 0.93884383 0.95056041 0.95578621 0.94245185\n",
      " 0.94894075 0.95342082 0.96366994 0.94769605 0.95761797 0.95508898\n",
      " 0.96671388 0.96585413 0.96618995 0.97646277 0.98444877 0.98862184\n",
      " 1.         0.97577214 0.92258453 0.87142229 0.83613247 0.81692463\n",
      " 0.80666482 0.79728431 0.78381342 0.76532578 0.74377406 0.72207427\n",
      " 0.70251113 0.68601799 0.67229885 0.66041172 0.64937145 0.63852388\n",
      " 0.62764388 0.61683619 0.60635501 0.59643668]\n",
      "21 day output [[0.5872038]]\n",
      "22 day input [0.8278591  0.81879317 0.82371987 0.8320953  0.83312512 0.83841306\n",
      " 0.83932211 0.84745573 0.82816942 0.83443357 0.83869141 0.83650561\n",
      " 0.82193751 0.82331788 0.82212535 0.81818474 0.83304332 0.83337044\n",
      " 0.83111953 0.83773333 0.8436754  0.83625069 0.83316975 0.8145119\n",
      " 0.80761445 0.80610522 0.78047916 0.79967442 0.81330483 0.8131115\n",
      " 0.8152886  0.82975003 0.83610927 0.84992132 0.856918   0.86389958\n",
      " 0.87141202 0.87335009 0.87407902 0.87796898 0.8534576  0.85930933\n",
      " 0.86962166 0.87221386 0.87595926 0.87253837 0.87545795 0.86304512\n",
      " 0.87170196 0.85791819 0.85395046 0.8508293  0.85412807 0.86570305\n",
      " 0.87386361 0.89050644 0.90321576 0.91940694 0.93504294 0.94230728\n",
      " 0.93687137 0.93884383 0.95056041 0.95578621 0.94245185 0.94894075\n",
      " 0.95342082 0.96366994 0.94769605 0.95761797 0.95508898 0.96671388\n",
      " 0.96585413 0.96618995 0.97646277 0.98444877 0.98862184 1.\n",
      " 0.97577214 0.92258453 0.87142229 0.83613247 0.81692463 0.80666482\n",
      " 0.79728431 0.78381342 0.76532578 0.74377406 0.72207427 0.70251113\n",
      " 0.68601799 0.67229885 0.66041172 0.64937145 0.63852388 0.62764388\n",
      " 0.61683619 0.60635501 0.59643668 0.5872038 ]\n",
      "22 day output [[0.57864517]]\n",
      "23 day input [0.81879317 0.82371987 0.8320953  0.83312512 0.83841306 0.83932211\n",
      " 0.84745573 0.82816942 0.83443357 0.83869141 0.83650561 0.82193751\n",
      " 0.82331788 0.82212535 0.81818474 0.83304332 0.83337044 0.83111953\n",
      " 0.83773333 0.8436754  0.83625069 0.83316975 0.8145119  0.80761445\n",
      " 0.80610522 0.78047916 0.79967442 0.81330483 0.8131115  0.8152886\n",
      " 0.82975003 0.83610927 0.84992132 0.856918   0.86389958 0.87141202\n",
      " 0.87335009 0.87407902 0.87796898 0.8534576  0.85930933 0.86962166\n",
      " 0.87221386 0.87595926 0.87253837 0.87545795 0.86304512 0.87170196\n",
      " 0.85791819 0.85395046 0.8508293  0.85412807 0.86570305 0.87386361\n",
      " 0.89050644 0.90321576 0.91940694 0.93504294 0.94230728 0.93687137\n",
      " 0.93884383 0.95056041 0.95578621 0.94245185 0.94894075 0.95342082\n",
      " 0.96366994 0.94769605 0.95761797 0.95508898 0.96671388 0.96585413\n",
      " 0.96618995 0.97646277 0.98444877 0.98862184 1.         0.97577214\n",
      " 0.92258453 0.87142229 0.83613247 0.81692463 0.80666482 0.79728431\n",
      " 0.78381342 0.76532578 0.74377406 0.72207427 0.70251113 0.68601799\n",
      " 0.67229885 0.66041172 0.64937145 0.63852388 0.62764388 0.61683619\n",
      " 0.60635501 0.59643668 0.5872038  0.57864517]\n",
      "23 day output [[0.57065225]]\n",
      "24 day input [0.82371987 0.8320953  0.83312512 0.83841306 0.83932211 0.84745573\n",
      " 0.82816942 0.83443357 0.83869141 0.83650561 0.82193751 0.82331788\n",
      " 0.82212535 0.81818474 0.83304332 0.83337044 0.83111953 0.83773333\n",
      " 0.8436754  0.83625069 0.83316975 0.8145119  0.80761445 0.80610522\n",
      " 0.78047916 0.79967442 0.81330483 0.8131115  0.8152886  0.82975003\n",
      " 0.83610927 0.84992132 0.856918   0.86389958 0.87141202 0.87335009\n",
      " 0.87407902 0.87796898 0.8534576  0.85930933 0.86962166 0.87221386\n",
      " 0.87595926 0.87253837 0.87545795 0.86304512 0.87170196 0.85791819\n",
      " 0.85395046 0.8508293  0.85412807 0.86570305 0.87386361 0.89050644\n",
      " 0.90321576 0.91940694 0.93504294 0.94230728 0.93687137 0.93884383\n",
      " 0.95056041 0.95578621 0.94245185 0.94894075 0.95342082 0.96366994\n",
      " 0.94769605 0.95761797 0.95508898 0.96671388 0.96585413 0.96618995\n",
      " 0.97646277 0.98444877 0.98862184 1.         0.97577214 0.92258453\n",
      " 0.87142229 0.83613247 0.81692463 0.80666482 0.79728431 0.78381342\n",
      " 0.76532578 0.74377406 0.72207427 0.70251113 0.68601799 0.67229885\n",
      " 0.66041172 0.64937145 0.63852388 0.62764388 0.61683619 0.60635501\n",
      " 0.59643668 0.5872038  0.57864517 0.57065225]\n",
      "24 day output [[0.56307703]]\n",
      "25 day input [0.8320953  0.83312512 0.83841306 0.83932211 0.84745573 0.82816942\n",
      " 0.83443357 0.83869141 0.83650561 0.82193751 0.82331788 0.82212535\n",
      " 0.81818474 0.83304332 0.83337044 0.83111953 0.83773333 0.8436754\n",
      " 0.83625069 0.83316975 0.8145119  0.80761445 0.80610522 0.78047916\n",
      " 0.79967442 0.81330483 0.8131115  0.8152886  0.82975003 0.83610927\n",
      " 0.84992132 0.856918   0.86389958 0.87141202 0.87335009 0.87407902\n",
      " 0.87796898 0.8534576  0.85930933 0.86962166 0.87221386 0.87595926\n",
      " 0.87253837 0.87545795 0.86304512 0.87170196 0.85791819 0.85395046\n",
      " 0.8508293  0.85412807 0.86570305 0.87386361 0.89050644 0.90321576\n",
      " 0.91940694 0.93504294 0.94230728 0.93687137 0.93884383 0.95056041\n",
      " 0.95578621 0.94245185 0.94894075 0.95342082 0.96366994 0.94769605\n",
      " 0.95761797 0.95508898 0.96671388 0.96585413 0.96618995 0.97646277\n",
      " 0.98444877 0.98862184 1.         0.97577214 0.92258453 0.87142229\n",
      " 0.83613247 0.81692463 0.80666482 0.79728431 0.78381342 0.76532578\n",
      " 0.74377406 0.72207427 0.70251113 0.68601799 0.67229885 0.66041172\n",
      " 0.64937145 0.63852388 0.62764388 0.61683619 0.60635501 0.59643668\n",
      " 0.5872038  0.57864517 0.57065225 0.56307703]\n",
      "25 day output [[0.55578196]]\n",
      "26 day input [0.83312512 0.83841306 0.83932211 0.84745573 0.82816942 0.83443357\n",
      " 0.83869141 0.83650561 0.82193751 0.82331788 0.82212535 0.81818474\n",
      " 0.83304332 0.83337044 0.83111953 0.83773333 0.8436754  0.83625069\n",
      " 0.83316975 0.8145119  0.80761445 0.80610522 0.78047916 0.79967442\n",
      " 0.81330483 0.8131115  0.8152886  0.82975003 0.83610927 0.84992132\n",
      " 0.856918   0.86389958 0.87141202 0.87335009 0.87407902 0.87796898\n",
      " 0.8534576  0.85930933 0.86962166 0.87221386 0.87595926 0.87253837\n",
      " 0.87545795 0.86304512 0.87170196 0.85791819 0.85395046 0.8508293\n",
      " 0.85412807 0.86570305 0.87386361 0.89050644 0.90321576 0.91940694\n",
      " 0.93504294 0.94230728 0.93687137 0.93884383 0.95056041 0.95578621\n",
      " 0.94245185 0.94894075 0.95342082 0.96366994 0.94769605 0.95761797\n",
      " 0.95508898 0.96671388 0.96585413 0.96618995 0.97646277 0.98444877\n",
      " 0.98862184 1.         0.97577214 0.92258453 0.87142229 0.83613247\n",
      " 0.81692463 0.80666482 0.79728431 0.78381342 0.76532578 0.74377406\n",
      " 0.72207427 0.70251113 0.68601799 0.67229885 0.66041172 0.64937145\n",
      " 0.63852388 0.62764388 0.61683619 0.60635501 0.59643668 0.5872038\n",
      " 0.57864517 0.57065225 0.56307703 0.55578196]\n",
      "26 day output [[0.5486706]]\n",
      "27 day input [0.83841306 0.83932211 0.84745573 0.82816942 0.83443357 0.83869141\n",
      " 0.83650561 0.82193751 0.82331788 0.82212535 0.81818474 0.83304332\n",
      " 0.83337044 0.83111953 0.83773333 0.8436754  0.83625069 0.83316975\n",
      " 0.8145119  0.80761445 0.80610522 0.78047916 0.79967442 0.81330483\n",
      " 0.8131115  0.8152886  0.82975003 0.83610927 0.84992132 0.856918\n",
      " 0.86389958 0.87141202 0.87335009 0.87407902 0.87796898 0.8534576\n",
      " 0.85930933 0.86962166 0.87221386 0.87595926 0.87253837 0.87545795\n",
      " 0.86304512 0.87170196 0.85791819 0.85395046 0.8508293  0.85412807\n",
      " 0.86570305 0.87386361 0.89050644 0.90321576 0.91940694 0.93504294\n",
      " 0.94230728 0.93687137 0.93884383 0.95056041 0.95578621 0.94245185\n",
      " 0.94894075 0.95342082 0.96366994 0.94769605 0.95761797 0.95508898\n",
      " 0.96671388 0.96585413 0.96618995 0.97646277 0.98444877 0.98862184\n",
      " 1.         0.97577214 0.92258453 0.87142229 0.83613247 0.81692463\n",
      " 0.80666482 0.79728431 0.78381342 0.76532578 0.74377406 0.72207427\n",
      " 0.70251113 0.68601799 0.67229885 0.66041172 0.64937145 0.63852388\n",
      " 0.62764388 0.61683619 0.60635501 0.59643668 0.5872038  0.57864517\n",
      " 0.57065225 0.56307703 0.55578196 0.54867059]\n",
      "27 day output [[0.5416942]]\n",
      "28 day input [0.83932211 0.84745573 0.82816942 0.83443357 0.83869141 0.83650561\n",
      " 0.82193751 0.82331788 0.82212535 0.81818474 0.83304332 0.83337044\n",
      " 0.83111953 0.83773333 0.8436754  0.83625069 0.83316975 0.8145119\n",
      " 0.80761445 0.80610522 0.78047916 0.79967442 0.81330483 0.8131115\n",
      " 0.8152886  0.82975003 0.83610927 0.84992132 0.856918   0.86389958\n",
      " 0.87141202 0.87335009 0.87407902 0.87796898 0.8534576  0.85930933\n",
      " 0.86962166 0.87221386 0.87595926 0.87253837 0.87545795 0.86304512\n",
      " 0.87170196 0.85791819 0.85395046 0.8508293  0.85412807 0.86570305\n",
      " 0.87386361 0.89050644 0.90321576 0.91940694 0.93504294 0.94230728\n",
      " 0.93687137 0.93884383 0.95056041 0.95578621 0.94245185 0.94894075\n",
      " 0.95342082 0.96366994 0.94769605 0.95761797 0.95508898 0.96671388\n",
      " 0.96585413 0.96618995 0.97646277 0.98444877 0.98862184 1.\n",
      " 0.97577214 0.92258453 0.87142229 0.83613247 0.81692463 0.80666482\n",
      " 0.79728431 0.78381342 0.76532578 0.74377406 0.72207427 0.70251113\n",
      " 0.68601799 0.67229885 0.66041172 0.64937145 0.63852388 0.62764388\n",
      " 0.61683619 0.60635501 0.59643668 0.5872038  0.57864517 0.57065225\n",
      " 0.56307703 0.55578196 0.54867059 0.54169422]\n",
      "28 day output [[0.53484184]]\n",
      "29 day input [0.84745573 0.82816942 0.83443357 0.83869141 0.83650561 0.82193751\n",
      " 0.82331788 0.82212535 0.81818474 0.83304332 0.83337044 0.83111953\n",
      " 0.83773333 0.8436754  0.83625069 0.83316975 0.8145119  0.80761445\n",
      " 0.80610522 0.78047916 0.79967442 0.81330483 0.8131115  0.8152886\n",
      " 0.82975003 0.83610927 0.84992132 0.856918   0.86389958 0.87141202\n",
      " 0.87335009 0.87407902 0.87796898 0.8534576  0.85930933 0.86962166\n",
      " 0.87221386 0.87595926 0.87253837 0.87545795 0.86304512 0.87170196\n",
      " 0.85791819 0.85395046 0.8508293  0.85412807 0.86570305 0.87386361\n",
      " 0.89050644 0.90321576 0.91940694 0.93504294 0.94230728 0.93687137\n",
      " 0.93884383 0.95056041 0.95578621 0.94245185 0.94894075 0.95342082\n",
      " 0.96366994 0.94769605 0.95761797 0.95508898 0.96671388 0.96585413\n",
      " 0.96618995 0.97646277 0.98444877 0.98862184 1.         0.97577214\n",
      " 0.92258453 0.87142229 0.83613247 0.81692463 0.80666482 0.79728431\n",
      " 0.78381342 0.76532578 0.74377406 0.72207427 0.70251113 0.68601799\n",
      " 0.67229885 0.66041172 0.64937145 0.63852388 0.62764388 0.61683619\n",
      " 0.60635501 0.59643668 0.5872038  0.57864517 0.57065225 0.56307703\n",
      " 0.55578196 0.54867059 0.54169422 0.53484184]\n",
      "29 day output [[0.5281233]]\n",
      "[[0.9757721424102783], [0.9225845336914062], [0.871422290802002], [0.8361324667930603], [0.8169246315956116], [0.8066648244857788], [0.7972843050956726], [0.7838134169578552], [0.7653257846832275], [0.7437740564346313], [0.7220742702484131], [0.7025111317634583], [0.6860179901123047], [0.6722988486289978], [0.6604117155075073], [0.6493714451789856], [0.6385238766670227], [0.627643883228302], [0.6168361902236938], [0.6063550114631653], [0.5964366793632507], [0.5872038006782532], [0.5786451697349548], [0.5706522464752197], [0.5630770325660706], [0.5557819604873657], [0.5486705899238586], [0.5416942238807678], [0.5348418354988098], [0.5281233191490173]]\n"
     ]
    }
   ],
   "source": [
    "# demonstrate prediction for next 100 days\n",
    "from numpy import array\n",
    "\n",
    "lst_output=[]\n",
    "n_steps=100\n",
    "i=0\n",
    "while(i<30):\n",
    "    \n",
    "    if(len(temp_input)>100):\n",
    "        #print(temp_input)\n",
    "        x_input=np.array(temp_input[1:])\n",
    "        print(\"{} day input {}\".format(i,x_input))\n",
    "        x_input=x_input.reshape(1,-1)\n",
    "        x_input = x_input.reshape((1, n_steps, 1))\n",
    "        #print(x_input)\n",
    "        yhat = model.predict(x_input, verbose=0)\n",
    "        print(\"{} day output {}\".format(i,yhat))\n",
    "        temp_input.extend(yhat[0].tolist())\n",
    "        temp_input=temp_input[1:]\n",
    "        #print(temp_input)\n",
    "        lst_output.extend(yhat.tolist())\n",
    "        i=i+1\n",
    "    else:\n",
    "        x_input = x_input.reshape((1, n_steps,1))\n",
    "        yhat = model.predict(x_input, verbose=0)\n",
    "        print(yhat[0])\n",
    "        temp_input.extend(yhat[0].tolist())\n",
    "        print(len(temp_input))\n",
    "        lst_output.extend(yhat.tolist())\n",
    "        i=i+1\n",
    "    \n",
    "\n",
    "print(lst_output)"
   ]
  },
  {
   "cell_type": "code",
   "execution_count": 628,
   "metadata": {},
   "outputs": [],
   "source": [
    "day_new=np.arange(1,100)\n",
    "day_pred=np.arange(101,131)"
   ]
  },
  {
   "cell_type": "code",
   "execution_count": 629,
   "metadata": {},
   "outputs": [
    {
     "data": {
      "text/plain": [
       "4908"
      ]
     },
     "execution_count": 629,
     "metadata": {},
     "output_type": "execute_result"
    }
   ],
   "source": [
    "len(stock_data)"
   ]
  },
  {
   "cell_type": "code",
   "execution_count": 637,
   "metadata": {},
   "outputs": [
    {
     "data": {
      "text/plain": [
       "[<matplotlib.lines.Line2D at 0x1c440367640>]"
      ]
     },
     "execution_count": 637,
     "metadata": {},
     "output_type": "execute_result"
    },
    {
     "data": {
      "image/png": "[encoded data removed]",
      "text/plain": [
       "<Figure size 432x288 with 1 Axes>"
      ]
     },
     "metadata": {
      "needs_background": "light"
     },
     "output_type": "display_data"
    }
   ],
   "source": [
    "plt.plot(day_new,scaler.inverse_transform(stock_data[4809:]))\n",
    "plt.plot(day_pred,scaler.inverse_transform(lst_output))"
   ]
  },
  {
   "cell_type": "code",
   "execution_count": 615,
   "metadata": {},
   "outputs": [
    {
     "data": {
      "text/plain": [
       "[<matplotlib.lines.Line2D at 0x1c43fecec70>]"
      ]
     },
     "execution_count": 615,
     "metadata": {},
     "output_type": "execute_result"
    },
    {
     "data": {
      "image/png": "[encoded data removed]",
      "text/plain": [
       "<Figure size 432x288 with 1 Axes>"
      ]
     },
     "metadata": {
      "needs_background": "light"
     },
     "output_type": "display_data"
    }
   ],
   "source": [
    "new_stock=stock_data.tolist()\n",
    "new_stock.extend(lst_output)\n",
    "plt.plot(new_stock[4808:])"
   ]
  },
  {
   "cell_type": "markdown",
   "metadata": {},
   "source": [
    "# Textual Analysis "
   ]
  },
  {
   "cell_type": "code",
   "execution_count": 638,
   "metadata": {},
   "outputs": [
    {
     "name": "stderr",
     "output_type": "stream",
     "text": [
      "[nltk_data] Downloading package stopwords to\n",
      "[nltk_data]     C:\\Users\\VEDANT\\AppData\\Roaming\\nltk_data...\n",
      "[nltk_data]   Package stopwords is already up-to-date!\n",
      "[nltk_data] Downloading package vader_lexicon to\n",
      "[nltk_data]     C:\\Users\\VEDANT\\AppData\\Roaming\\nltk_data...\n",
      "[nltk_data]   Package vader_lexicon is already up-to-date!\n"
     ]
    }
   ],
   "source": [
    "import os\n",
    "import warnings\n",
    "warnings.filterwarnings('ignore')\n",
    "import pandas as pd\n",
    "import numpy as np\n",
    "import matplotlib.pyplot as plt\n",
    "import itertools\n",
    "from statsmodels.tsa.stattools import adfuller, acf, pacf\n",
    "from statsmodels.tsa.arima_model import ARIMA\n",
    "import nltk\n",
    "import re\n",
    "from nltk.corpus import stopwords\n",
    "nltk.download('stopwords')\n",
    "nltk.download('vader_lexicon')\n",
    "from textblob import TextBlob\n",
    "from nltk.sentiment.vader import SentimentIntensityAnalyzer\n",
    "from nltk.stem.porter import PorterStemmer\n",
    "from sklearn.metrics import mean_squared_error\n",
    "from sklearn.model_selection import train_test_split\n",
    "from sklearn.ensemble import RandomForestRegressor\n",
    "import xgboost"
   ]
  },
  {
   "cell_type": "code",
   "execution_count": 639,
   "metadata": {},
   "outputs": [
    {
     "data": {
      "text/html": [
       "<div>\n",
       "<style scoped>\n",
       "    .dataframe tbody tr th:only-of-type {\n",
       "        vertical-align: middle;\n",
       "    }\n",
       "\n",
       "    .dataframe tbody tr th {\n",
       "        vertical-align: top;\n",
       "    }\n",
       "\n",
       "    .dataframe thead th {\n",
       "        text-align: right;\n",
       "    }\n",
       "</style>\n",
       "<table border=\"1\" class=\"dataframe\">\n",
       "  <thead>\n",
       "    <tr style=\"text-align: right;\">\n",
       "      <th></th>\n",
       "      <th>Date</th>\n",
       "      <th>Category</th>\n",
       "      <th>News</th>\n",
       "    </tr>\n",
       "  </thead>\n",
       "  <tbody>\n",
       "    <tr>\n",
       "      <th>0</th>\n",
       "      <td>publish_date</td>\n",
       "      <td>headline_category</td>\n",
       "      <td>headline_text</td>\n",
       "    </tr>\n",
       "    <tr>\n",
       "      <th>1</th>\n",
       "      <td>20010101</td>\n",
       "      <td>sports.wwe</td>\n",
       "      <td>win over cena satisfying but defeating underta...</td>\n",
       "    </tr>\n",
       "    <tr>\n",
       "      <th>2</th>\n",
       "      <td>20010102</td>\n",
       "      <td>unknown</td>\n",
       "      <td>Status quo will not be disturbed at Ayodhya; s...</td>\n",
       "    </tr>\n",
       "    <tr>\n",
       "      <th>3</th>\n",
       "      <td>20010102</td>\n",
       "      <td>unknown</td>\n",
       "      <td>Fissures in Hurriyat over Pak visit</td>\n",
       "    </tr>\n",
       "    <tr>\n",
       "      <th>4</th>\n",
       "      <td>20010102</td>\n",
       "      <td>unknown</td>\n",
       "      <td>America's unwanted heading for India?</td>\n",
       "    </tr>\n",
       "    <tr>\n",
       "      <th>...</th>\n",
       "      <td>...</td>\n",
       "      <td>...</td>\n",
       "      <td>...</td>\n",
       "    </tr>\n",
       "    <tr>\n",
       "      <th>1048571</th>\n",
       "      <td>20110207</td>\n",
       "      <td>sports.icc-world-cup-2015</td>\n",
       "      <td>Banned trio summoned by Pakistan govt over fix...</td>\n",
       "    </tr>\n",
       "    <tr>\n",
       "      <th>1048572</th>\n",
       "      <td>20110207</td>\n",
       "      <td>sports.more-sports.others</td>\n",
       "      <td>Nadal pips Messi to bag Laureus 'World Sportsm...</td>\n",
       "    </tr>\n",
       "    <tr>\n",
       "      <th>1048573</th>\n",
       "      <td>20110207</td>\n",
       "      <td>city.patna</td>\n",
       "      <td>Central team to visit Kutku dam in Bihar</td>\n",
       "    </tr>\n",
       "    <tr>\n",
       "      <th>1048574</th>\n",
       "      <td>20110207</td>\n",
       "      <td>city.bhubaneswar</td>\n",
       "      <td>Red bandh evokes lukewarm response</td>\n",
       "    </tr>\n",
       "    <tr>\n",
       "      <th>1048575</th>\n",
       "      <td>20110207</td>\n",
       "      <td>city.bhubaneswar</td>\n",
       "      <td>De-worming drug for tribal children</td>\n",
       "    </tr>\n",
       "  </tbody>\n",
       "</table>\n",
       "<p>1048576 rows × 3 columns</p>\n",
       "</div>"
      ],
      "text/plain": [
       "                 Date                   Category  \\\n",
       "0        publish_date          headline_category   \n",
       "1            20010101                 sports.wwe   \n",
       "2            20010102                    unknown   \n",
       "3            20010102                    unknown   \n",
       "4            20010102                    unknown   \n",
       "...               ...                        ...   \n",
       "1048571      20110207  sports.icc-world-cup-2015   \n",
       "1048572      20110207  sports.more-sports.others   \n",
       "1048573      20110207                 city.patna   \n",
       "1048574      20110207           city.bhubaneswar   \n",
       "1048575      20110207           city.bhubaneswar   \n",
       "\n",
       "                                                      News  \n",
       "0                                            headline_text  \n",
       "1        win over cena satisfying but defeating underta...  \n",
       "2        Status quo will not be disturbed at Ayodhya; s...  \n",
       "3                      Fissures in Hurriyat over Pak visit  \n",
       "4                    America's unwanted heading for India?  \n",
       "...                                                    ...  \n",
       "1048571  Banned trio summoned by Pakistan govt over fix...  \n",
       "1048572  Nadal pips Messi to bag Laureus 'World Sportsm...  \n",
       "1048573           Central team to visit Kutku dam in Bihar  \n",
       "1048574                 Red bandh evokes lukewarm response  \n",
       "1048575                De-worming drug for tribal children  \n",
       "\n",
       "[1048576 rows x 3 columns]"
      ]
     },
     "execution_count": 639,
     "metadata": {},
     "output_type": "execute_result"
    }
   ],
   "source": [
    "cols = ['Date','Category','News']\n",
    "df_news = pd.read_csv('D:\\SPARKS FOUNDATION\\india-news-headlines.csv', names = cols)\n",
    "df_news"
   ]
  },
  {
   "cell_type": "code",
   "execution_count": 640,
   "metadata": {},
   "outputs": [
    {
     "name": "stdout",
     "output_type": "stream",
     "text": [
      "<class 'pandas.core.frame.DataFrame'>\n",
      "Int64Index: 1048575 entries, 1 to 1048575\n",
      "Data columns (total 2 columns):\n",
      " #   Column  Non-Null Count    Dtype \n",
      "---  ------  --------------    ----- \n",
      " 0   Date    1048575 non-null  object\n",
      " 1   News    1048575 non-null  object\n",
      "dtypes: object(2)\n",
      "memory usage: 24.0+ MB\n"
     ]
    }
   ],
   "source": [
    "df_news.drop(0, inplace=True)\n",
    "df_news.drop('Category', axis = 1, inplace=True)\n",
    "df_news.info()"
   ]
  },
  {
   "cell_type": "code",
   "execution_count": 641,
   "metadata": {},
   "outputs": [
    {
     "data": {
      "text/html": [
       "<div>\n",
       "<style scoped>\n",
       "    .dataframe tbody tr th:only-of-type {\n",
       "        vertical-align: middle;\n",
       "    }\n",
       "\n",
       "    .dataframe tbody tr th {\n",
       "        vertical-align: top;\n",
       "    }\n",
       "\n",
       "    .dataframe thead th {\n",
       "        text-align: right;\n",
       "    }\n",
       "</style>\n",
       "<table border=\"1\" class=\"dataframe\">\n",
       "  <thead>\n",
       "    <tr style=\"text-align: right;\">\n",
       "      <th></th>\n",
       "      <th>Date</th>\n",
       "      <th>News</th>\n",
       "    </tr>\n",
       "  </thead>\n",
       "  <tbody>\n",
       "    <tr>\n",
       "      <th>1</th>\n",
       "      <td>20010101</td>\n",
       "      <td>win over cena satisfying but defeating underta...</td>\n",
       "    </tr>\n",
       "    <tr>\n",
       "      <th>2</th>\n",
       "      <td>20010102</td>\n",
       "      <td>Status quo will not be disturbed at Ayodhya; s...</td>\n",
       "    </tr>\n",
       "    <tr>\n",
       "      <th>3</th>\n",
       "      <td>20010102</td>\n",
       "      <td>Fissures in Hurriyat over Pak visit</td>\n",
       "    </tr>\n",
       "    <tr>\n",
       "      <th>4</th>\n",
       "      <td>20010102</td>\n",
       "      <td>America's unwanted heading for India?</td>\n",
       "    </tr>\n",
       "    <tr>\n",
       "      <th>5</th>\n",
       "      <td>20010102</td>\n",
       "      <td>For bigwigs; it is destination Goa</td>\n",
       "    </tr>\n",
       "  </tbody>\n",
       "</table>\n",
       "</div>"
      ],
      "text/plain": [
       "       Date                                               News\n",
       "1  20010101  win over cena satisfying but defeating underta...\n",
       "2  20010102  Status quo will not be disturbed at Ayodhya; s...\n",
       "3  20010102                Fissures in Hurriyat over Pak visit\n",
       "4  20010102              America's unwanted heading for India?\n",
       "5  20010102                 For bigwigs; it is destination Goa"
      ]
     },
     "execution_count": 641,
     "metadata": {},
     "output_type": "execute_result"
    }
   ],
   "source": [
    "df_news.head()"
   ]
  },
  {
   "cell_type": "code",
   "execution_count": 642,
   "metadata": {},
   "outputs": [
    {
     "data": {
      "text/html": [
       "<div>\n",
       "<style scoped>\n",
       "    .dataframe tbody tr th:only-of-type {\n",
       "        vertical-align: middle;\n",
       "    }\n",
       "\n",
       "    .dataframe tbody tr th {\n",
       "        vertical-align: top;\n",
       "    }\n",
       "\n",
       "    .dataframe thead th {\n",
       "        text-align: right;\n",
       "    }\n",
       "</style>\n",
       "<table border=\"1\" class=\"dataframe\">\n",
       "  <thead>\n",
       "    <tr style=\"text-align: right;\">\n",
       "      <th></th>\n",
       "      <th>Date</th>\n",
       "      <th>News</th>\n",
       "    </tr>\n",
       "  </thead>\n",
       "  <tbody>\n",
       "    <tr>\n",
       "      <th>1</th>\n",
       "      <td>2001-01-01</td>\n",
       "      <td>win over cena satisfying but defeating underta...</td>\n",
       "    </tr>\n",
       "    <tr>\n",
       "      <th>2</th>\n",
       "      <td>2001-01-02</td>\n",
       "      <td>Status quo will not be disturbed at Ayodhya; s...</td>\n",
       "    </tr>\n",
       "    <tr>\n",
       "      <th>3</th>\n",
       "      <td>2001-01-02</td>\n",
       "      <td>Fissures in Hurriyat over Pak visit</td>\n",
       "    </tr>\n",
       "    <tr>\n",
       "      <th>4</th>\n",
       "      <td>2001-01-02</td>\n",
       "      <td>America's unwanted heading for India?</td>\n",
       "    </tr>\n",
       "    <tr>\n",
       "      <th>5</th>\n",
       "      <td>2001-01-02</td>\n",
       "      <td>For bigwigs; it is destination Goa</td>\n",
       "    </tr>\n",
       "    <tr>\n",
       "      <th>...</th>\n",
       "      <td>...</td>\n",
       "      <td>...</td>\n",
       "    </tr>\n",
       "    <tr>\n",
       "      <th>1048571</th>\n",
       "      <td>2011-02-07</td>\n",
       "      <td>Banned trio summoned by Pakistan govt over fix...</td>\n",
       "    </tr>\n",
       "    <tr>\n",
       "      <th>1048572</th>\n",
       "      <td>2011-02-07</td>\n",
       "      <td>Nadal pips Messi to bag Laureus 'World Sportsm...</td>\n",
       "    </tr>\n",
       "    <tr>\n",
       "      <th>1048573</th>\n",
       "      <td>2011-02-07</td>\n",
       "      <td>Central team to visit Kutku dam in Bihar</td>\n",
       "    </tr>\n",
       "    <tr>\n",
       "      <th>1048574</th>\n",
       "      <td>2011-02-07</td>\n",
       "      <td>Red bandh evokes lukewarm response</td>\n",
       "    </tr>\n",
       "    <tr>\n",
       "      <th>1048575</th>\n",
       "      <td>2011-02-07</td>\n",
       "      <td>De-worming drug for tribal children</td>\n",
       "    </tr>\n",
       "  </tbody>\n",
       "</table>\n",
       "<p>1048575 rows × 2 columns</p>\n",
       "</div>"
      ],
      "text/plain": [
       "              Date                                               News\n",
       "1       2001-01-01  win over cena satisfying but defeating underta...\n",
       "2       2001-01-02  Status quo will not be disturbed at Ayodhya; s...\n",
       "3       2001-01-02                Fissures in Hurriyat over Pak visit\n",
       "4       2001-01-02              America's unwanted heading for India?\n",
       "5       2001-01-02                 For bigwigs; it is destination Goa\n",
       "...            ...                                                ...\n",
       "1048571 2011-02-07  Banned trio summoned by Pakistan govt over fix...\n",
       "1048572 2011-02-07  Nadal pips Messi to bag Laureus 'World Sportsm...\n",
       "1048573 2011-02-07           Central team to visit Kutku dam in Bihar\n",
       "1048574 2011-02-07                 Red bandh evokes lukewarm response\n",
       "1048575 2011-02-07                De-worming drug for tribal children\n",
       "\n",
       "[1048575 rows x 2 columns]"
      ]
     },
     "execution_count": 642,
     "metadata": {},
     "output_type": "execute_result"
    }
   ],
   "source": [
    "#Converting data type of Date column \n",
    "df_news['Date'] = pd.to_datetime(df_news['Date'],format= '%Y%m%d')\n",
    "df_news"
   ]
  },
  {
   "cell_type": "code",
   "execution_count": 643,
   "metadata": {},
   "outputs": [
    {
     "data": {
      "text/html": [
       "<div>\n",
       "<style scoped>\n",
       "    .dataframe tbody tr th:only-of-type {\n",
       "        vertical-align: middle;\n",
       "    }\n",
       "\n",
       "    .dataframe tbody tr th {\n",
       "        vertical-align: top;\n",
       "    }\n",
       "\n",
       "    .dataframe thead th {\n",
       "        text-align: right;\n",
       "    }\n",
       "</style>\n",
       "<table border=\"1\" class=\"dataframe\">\n",
       "  <thead>\n",
       "    <tr style=\"text-align: right;\">\n",
       "      <th></th>\n",
       "      <th>Date</th>\n",
       "      <th>News</th>\n",
       "    </tr>\n",
       "  </thead>\n",
       "  <tbody>\n",
       "    <tr>\n",
       "      <th>0</th>\n",
       "      <td>2001-01-01</td>\n",
       "      <td>win over cena satisfying but defeating underta...</td>\n",
       "    </tr>\n",
       "    <tr>\n",
       "      <th>1</th>\n",
       "      <td>2001-01-02</td>\n",
       "      <td>Status quo will not be disturbed at Ayodhya; s...</td>\n",
       "    </tr>\n",
       "    <tr>\n",
       "      <th>2</th>\n",
       "      <td>2001-01-03</td>\n",
       "      <td>Powerless north India gropes in the dark Think...</td>\n",
       "    </tr>\n",
       "    <tr>\n",
       "      <th>3</th>\n",
       "      <td>2001-01-04</td>\n",
       "      <td>The string that pulled Stephen Hawking to Indi...</td>\n",
       "    </tr>\n",
       "    <tr>\n",
       "      <th>4</th>\n",
       "      <td>2001-01-05</td>\n",
       "      <td>Light combat craft takes India into club class...</td>\n",
       "    </tr>\n",
       "    <tr>\n",
       "      <th>5</th>\n",
       "      <td>2001-01-06</td>\n",
       "      <td>Light combat craft takes India into club class...</td>\n",
       "    </tr>\n",
       "    <tr>\n",
       "      <th>6</th>\n",
       "      <td>2001-01-07</td>\n",
       "      <td>Muslim body rules out talks on Ayodhya Bajrang...</td>\n",
       "    </tr>\n",
       "    <tr>\n",
       "      <th>7</th>\n",
       "      <td>2001-01-08</td>\n",
       "      <td>Sangh Parivar; Babri panel up the ante Frontru...</td>\n",
       "    </tr>\n",
       "    <tr>\n",
       "      <th>8</th>\n",
       "      <td>2001-01-09</td>\n",
       "      <td>Financier Bharat Shah held for alleged links w...</td>\n",
       "    </tr>\n",
       "    <tr>\n",
       "      <th>9</th>\n",
       "      <td>2001-01-10</td>\n",
       "      <td>Fend for yourselves; Pande tells doctors Burea...</td>\n",
       "    </tr>\n",
       "  </tbody>\n",
       "</table>\n",
       "</div>"
      ],
      "text/plain": [
       "        Date                                               News\n",
       "0 2001-01-01  win over cena satisfying but defeating underta...\n",
       "1 2001-01-02  Status quo will not be disturbed at Ayodhya; s...\n",
       "2 2001-01-03  Powerless north India gropes in the dark Think...\n",
       "3 2001-01-04  The string that pulled Stephen Hawking to Indi...\n",
       "4 2001-01-05  Light combat craft takes India into club class...\n",
       "5 2001-01-06  Light combat craft takes India into club class...\n",
       "6 2001-01-07  Muslim body rules out talks on Ayodhya Bajrang...\n",
       "7 2001-01-08  Sangh Parivar; Babri panel up the ante Frontru...\n",
       "8 2001-01-09  Financier Bharat Shah held for alleged links w...\n",
       "9 2001-01-10  Fend for yourselves; Pande tells doctors Burea..."
      ]
     },
     "execution_count": 643,
     "metadata": {},
     "output_type": "execute_result"
    }
   ],
   "source": [
    "#Grouping the headlines for each day\n",
    "df_news['News'] = df_news.groupby(['Date']).transform(lambda x : ' '.join(x)) \n",
    "df_news = df_news.drop_duplicates() \n",
    "df_news.reset_index(inplace = True, drop = True)\n",
    "df_news.head(10)"
   ]
  },
  {
   "cell_type": "code",
   "execution_count": 644,
   "metadata": {},
   "outputs": [
    {
     "data": {
      "text/plain": [
       "(3649, 2)"
      ]
     },
     "execution_count": 644,
     "metadata": {},
     "output_type": "execute_result"
    }
   ],
   "source": [
    "df_news.shape"
   ]
  },
  {
   "cell_type": "code",
   "execution_count": 645,
   "metadata": {},
   "outputs": [
    {
     "data": {
      "text/html": [
       "<div>\n",
       "<style scoped>\n",
       "    .dataframe tbody tr th:only-of-type {\n",
       "        vertical-align: middle;\n",
       "    }\n",
       "\n",
       "    .dataframe tbody tr th {\n",
       "        vertical-align: top;\n",
       "    }\n",
       "\n",
       "    .dataframe thead th {\n",
       "        text-align: right;\n",
       "    }\n",
       "</style>\n",
       "<table border=\"1\" class=\"dataframe\">\n",
       "  <thead>\n",
       "    <tr style=\"text-align: right;\">\n",
       "      <th></th>\n",
       "      <th>Date</th>\n",
       "      <th>News</th>\n",
       "    </tr>\n",
       "  </thead>\n",
       "  <tbody>\n",
       "    <tr>\n",
       "      <th>3644</th>\n",
       "      <td>2011-02-03</td>\n",
       "      <td>All's not well with Deepika; Akshay Arshad ups...</td>\n",
       "    </tr>\n",
       "    <tr>\n",
       "      <th>3645</th>\n",
       "      <td>2011-02-04</td>\n",
       "      <td>Abhishek Bachchan Wish the star a very happy b...</td>\n",
       "    </tr>\n",
       "    <tr>\n",
       "      <th>3646</th>\n",
       "      <td>2011-02-05</td>\n",
       "      <td>Abhishek Bachchan Labourers clash List of LGT ...</td>\n",
       "    </tr>\n",
       "    <tr>\n",
       "      <th>3647</th>\n",
       "      <td>2011-02-06</td>\n",
       "      <td>Akki; Urmila meet after 14 years No melody in ...</td>\n",
       "    </tr>\n",
       "    <tr>\n",
       "      <th>3648</th>\n",
       "      <td>2011-02-07</td>\n",
       "      <td>Venky in Nagavalli 2? Lata apologizes to Dev A...</td>\n",
       "    </tr>\n",
       "  </tbody>\n",
       "</table>\n",
       "</div>"
      ],
      "text/plain": [
       "           Date                                               News\n",
       "3644 2011-02-03  All's not well with Deepika; Akshay Arshad ups...\n",
       "3645 2011-02-04  Abhishek Bachchan Wish the star a very happy b...\n",
       "3646 2011-02-05  Abhishek Bachchan Labourers clash List of LGT ...\n",
       "3647 2011-02-06  Akki; Urmila meet after 14 years No melody in ...\n",
       "3648 2011-02-07  Venky in Nagavalli 2? Lata apologizes to Dev A..."
      ]
     },
     "execution_count": 645,
     "metadata": {},
     "output_type": "execute_result"
    }
   ],
   "source": [
    "df_news.tail()\n"
   ]
  },
  {
   "cell_type": "code",
   "execution_count": 646,
   "metadata": {},
   "outputs": [
    {
     "data": {
      "text/html": [
       "<div>\n",
       "<style scoped>\n",
       "    .dataframe tbody tr th:only-of-type {\n",
       "        vertical-align: middle;\n",
       "    }\n",
       "\n",
       "    .dataframe tbody tr th {\n",
       "        vertical-align: top;\n",
       "    }\n",
       "\n",
       "    .dataframe thead th {\n",
       "        text-align: right;\n",
       "    }\n",
       "</style>\n",
       "<table border=\"1\" class=\"dataframe\">\n",
       "  <thead>\n",
       "    <tr style=\"text-align: right;\">\n",
       "      <th></th>\n",
       "      <th>Date</th>\n",
       "      <th>News</th>\n",
       "    </tr>\n",
       "  </thead>\n",
       "  <tbody>\n",
       "    <tr>\n",
       "      <th>3644</th>\n",
       "      <td>2011-02-03</td>\n",
       "      <td>All's not well with Deepika; Akshay Arshad ups...</td>\n",
       "    </tr>\n",
       "    <tr>\n",
       "      <th>3645</th>\n",
       "      <td>2011-02-04</td>\n",
       "      <td>Abhishek Bachchan Wish the star a very happy b...</td>\n",
       "    </tr>\n",
       "    <tr>\n",
       "      <th>3646</th>\n",
       "      <td>2011-02-05</td>\n",
       "      <td>Abhishek Bachchan Labourers clash List of LGT ...</td>\n",
       "    </tr>\n",
       "    <tr>\n",
       "      <th>3647</th>\n",
       "      <td>2011-02-06</td>\n",
       "      <td>Akki; Urmila meet after 14 years No melody in ...</td>\n",
       "    </tr>\n",
       "    <tr>\n",
       "      <th>3648</th>\n",
       "      <td>2011-02-07</td>\n",
       "      <td>Venky in Nagavalli 2? Lata apologizes to Dev A...</td>\n",
       "    </tr>\n",
       "  </tbody>\n",
       "</table>\n",
       "</div>"
      ],
      "text/plain": [
       "           Date                                               News\n",
       "3644 2011-02-03  All's not well with Deepika; Akshay Arshad ups...\n",
       "3645 2011-02-04  Abhishek Bachchan Wish the star a very happy b...\n",
       "3646 2011-02-05  Abhishek Bachchan Labourers clash List of LGT ...\n",
       "3647 2011-02-06  Akki; Urmila meet after 14 years No melody in ...\n",
       "3648 2011-02-07  Venky in Nagavalli 2? Lata apologizes to Dev A..."
      ]
     },
     "execution_count": 646,
     "metadata": {},
     "output_type": "execute_result"
    }
   ],
   "source": [
    "df_news.tail()"
   ]
  },
  {
   "cell_type": "code",
   "execution_count": 647,
   "metadata": {},
   "outputs": [
    {
     "data": {
      "text/plain": [
       "['business.india-business',\n",
       " 'business.international-business',\n",
       " 'business.personal-finance',\n",
       " 'business']"
      ]
     },
     "execution_count": 647,
     "metadata": {},
     "output_type": "execute_result"
    }
   ],
   "source": [
    "headline_cats\n"
   ]
  },
  {
   "cell_type": "code",
   "execution_count": 648,
   "metadata": {},
   "outputs": [],
   "source": [
    "#Cleaning headlines\n",
    "ps= PorterStemmer()\n",
    "c = []\n",
    "for i in range(0,len(df_news['News'])):\n",
    "    news = re.sub('[^a-zA-Z]',' ',df_news['News'][i])\n",
    "    news = news.lower()\n",
    "    news = news.split()\n",
    "    news = [ps.stem(word) for word in news if not word in set(stopwords.words('english'))]\n",
    "    news=' '.join(news)\n",
    "    c.append(news)"
   ]
  },
  {
   "cell_type": "code",
   "execution_count": 649,
   "metadata": {},
   "outputs": [
    {
     "data": {
      "text/html": [
       "<div>\n",
       "<style scoped>\n",
       "    .dataframe tbody tr th:only-of-type {\n",
       "        vertical-align: middle;\n",
       "    }\n",
       "\n",
       "    .dataframe tbody tr th {\n",
       "        vertical-align: top;\n",
       "    }\n",
       "\n",
       "    .dataframe thead th {\n",
       "        text-align: right;\n",
       "    }\n",
       "</style>\n",
       "<table border=\"1\" class=\"dataframe\">\n",
       "  <thead>\n",
       "    <tr style=\"text-align: right;\">\n",
       "      <th></th>\n",
       "      <th>Date</th>\n",
       "      <th>News</th>\n",
       "    </tr>\n",
       "  </thead>\n",
       "  <tbody>\n",
       "    <tr>\n",
       "      <th>0</th>\n",
       "      <td>2001-01-01</td>\n",
       "      <td>win cena satisfi defeat undertak bigger roman ...</td>\n",
       "    </tr>\n",
       "    <tr>\n",
       "      <th>1</th>\n",
       "      <td>2001-01-02</td>\n",
       "      <td>statu quo disturb ayodhya say vajpaye fissur h...</td>\n",
       "    </tr>\n",
       "    <tr>\n",
       "      <th>2</th>\n",
       "      <td>2001-01-03</td>\n",
       "      <td>powerless north india grope dark think laxman ...</td>\n",
       "    </tr>\n",
       "    <tr>\n",
       "      <th>3</th>\n",
       "      <td>2001-01-04</td>\n",
       "      <td>string pull stephen hawk india vajpaye give bi...</td>\n",
       "    </tr>\n",
       "    <tr>\n",
       "      <th>4</th>\n",
       "      <td>2001-01-05</td>\n",
       "      <td>light combat craft take india club class hawk ...</td>\n",
       "    </tr>\n",
       "    <tr>\n",
       "      <th>...</th>\n",
       "      <td>...</td>\n",
       "      <td>...</td>\n",
       "    </tr>\n",
       "    <tr>\n",
       "      <th>3644</th>\n",
       "      <td>2011-02-03</td>\n",
       "      <td>well deepika akshay arshad upset wife maria pa...</td>\n",
       "    </tr>\n",
       "    <tr>\n",
       "      <th>3645</th>\n",
       "      <td>2011-02-04</td>\n",
       "      <td>abhishek bachchan wish star happi birthday per...</td>\n",
       "    </tr>\n",
       "    <tr>\n",
       "      <th>3646</th>\n",
       "      <td>2011-02-05</td>\n",
       "      <td>abhishek bachchan labour clash list lgt bank a...</td>\n",
       "    </tr>\n",
       "    <tr>\n",
       "      <th>3647</th>\n",
       "      <td>2011-02-06</td>\n",
       "      <td>akki urmila meet year melodi today music lesli...</td>\n",
       "    </tr>\n",
       "    <tr>\n",
       "      <th>3648</th>\n",
       "      <td>2011-02-07</td>\n",
       "      <td>venki nagav lata apolog dev anand actress priy...</td>\n",
       "    </tr>\n",
       "  </tbody>\n",
       "</table>\n",
       "<p>3649 rows × 2 columns</p>\n",
       "</div>"
      ],
      "text/plain": [
       "           Date                                               News\n",
       "0    2001-01-01  win cena satisfi defeat undertak bigger roman ...\n",
       "1    2001-01-02  statu quo disturb ayodhya say vajpaye fissur h...\n",
       "2    2001-01-03  powerless north india grope dark think laxman ...\n",
       "3    2001-01-04  string pull stephen hawk india vajpaye give bi...\n",
       "4    2001-01-05  light combat craft take india club class hawk ...\n",
       "...         ...                                                ...\n",
       "3644 2011-02-03  well deepika akshay arshad upset wife maria pa...\n",
       "3645 2011-02-04  abhishek bachchan wish star happi birthday per...\n",
       "3646 2011-02-05  abhishek bachchan labour clash list lgt bank a...\n",
       "3647 2011-02-06  akki urmila meet year melodi today music lesli...\n",
       "3648 2011-02-07  venki nagav lata apolog dev anand actress priy...\n",
       "\n",
       "[3649 rows x 2 columns]"
      ]
     },
     "execution_count": 649,
     "metadata": {},
     "output_type": "execute_result"
    }
   ],
   "source": [
    "df_news['News'] = pd.Series(c)\n",
    "df_news"
   ]
  },
  {
   "cell_type": "code",
   "execution_count": 650,
   "metadata": {},
   "outputs": [],
   "source": [
    "#Functions to get the subjectivity and polarity\n",
    "def getSubjectivity(text):\n",
    "  return TextBlob(text).sentiment.subjectivity\n",
    "\n",
    "def getPolarity(text):\n",
    "  return  TextBlob(text).sentiment.polarity"
   ]
  },
  {
   "cell_type": "code",
   "execution_count": 651,
   "metadata": {},
   "outputs": [
    {
     "data": {
      "text/html": [
       "<div>\n",
       "<style scoped>\n",
       "    .dataframe tbody tr th:only-of-type {\n",
       "        vertical-align: middle;\n",
       "    }\n",
       "\n",
       "    .dataframe tbody tr th {\n",
       "        vertical-align: top;\n",
       "    }\n",
       "\n",
       "    .dataframe thead th {\n",
       "        text-align: right;\n",
       "    }\n",
       "</style>\n",
       "<table border=\"1\" class=\"dataframe\">\n",
       "  <thead>\n",
       "    <tr style=\"text-align: right;\">\n",
       "      <th></th>\n",
       "      <th>Date</th>\n",
       "      <th>News</th>\n",
       "      <th>Subjectivity</th>\n",
       "      <th>Polarity</th>\n",
       "    </tr>\n",
       "  </thead>\n",
       "  <tbody>\n",
       "    <tr>\n",
       "      <th>0</th>\n",
       "      <td>2001-01-01</td>\n",
       "      <td>win cena satisfi defeat undertak bigger roman ...</td>\n",
       "      <td>0.450000</td>\n",
       "      <td>0.400000</td>\n",
       "    </tr>\n",
       "    <tr>\n",
       "      <th>1</th>\n",
       "      <td>2001-01-02</td>\n",
       "      <td>statu quo disturb ayodhya say vajpaye fissur h...</td>\n",
       "      <td>0.298148</td>\n",
       "      <td>0.099074</td>\n",
       "    </tr>\n",
       "    <tr>\n",
       "      <th>2</th>\n",
       "      <td>2001-01-03</td>\n",
       "      <td>powerless north india grope dark think laxman ...</td>\n",
       "      <td>0.429167</td>\n",
       "      <td>0.025000</td>\n",
       "    </tr>\n",
       "    <tr>\n",
       "      <th>3</th>\n",
       "      <td>2001-01-04</td>\n",
       "      <td>string pull stephen hawk india vajpaye give bi...</td>\n",
       "      <td>0.475140</td>\n",
       "      <td>0.032481</td>\n",
       "    </tr>\n",
       "    <tr>\n",
       "      <th>4</th>\n",
       "      <td>2001-01-05</td>\n",
       "      <td>light combat craft take india club class hawk ...</td>\n",
       "      <td>0.458412</td>\n",
       "      <td>0.296404</td>\n",
       "    </tr>\n",
       "    <tr>\n",
       "      <th>...</th>\n",
       "      <td>...</td>\n",
       "      <td>...</td>\n",
       "      <td>...</td>\n",
       "      <td>...</td>\n",
       "    </tr>\n",
       "    <tr>\n",
       "      <th>3644</th>\n",
       "      <td>2011-02-03</td>\n",
       "      <td>well deepika akshay arshad upset wife maria pa...</td>\n",
       "      <td>0.349123</td>\n",
       "      <td>0.065558</td>\n",
       "    </tr>\n",
       "    <tr>\n",
       "      <th>3645</th>\n",
       "      <td>2011-02-04</td>\n",
       "      <td>abhishek bachchan wish star happi birthday per...</td>\n",
       "      <td>0.362757</td>\n",
       "      <td>0.060614</td>\n",
       "    </tr>\n",
       "    <tr>\n",
       "      <th>3646</th>\n",
       "      <td>2011-02-05</td>\n",
       "      <td>abhishek bachchan labour clash list lgt bank a...</td>\n",
       "      <td>0.378588</td>\n",
       "      <td>0.043108</td>\n",
       "    </tr>\n",
       "    <tr>\n",
       "      <th>3647</th>\n",
       "      <td>2011-02-06</td>\n",
       "      <td>akki urmila meet year melodi today music lesli...</td>\n",
       "      <td>0.395333</td>\n",
       "      <td>0.087425</td>\n",
       "    </tr>\n",
       "    <tr>\n",
       "      <th>3648</th>\n",
       "      <td>2011-02-07</td>\n",
       "      <td>venki nagav lata apolog dev anand actress priy...</td>\n",
       "      <td>0.373551</td>\n",
       "      <td>0.106810</td>\n",
       "    </tr>\n",
       "  </tbody>\n",
       "</table>\n",
       "<p>3649 rows × 4 columns</p>\n",
       "</div>"
      ],
      "text/plain": [
       "           Date                                               News  \\\n",
       "0    2001-01-01  win cena satisfi defeat undertak bigger roman ...   \n",
       "1    2001-01-02  statu quo disturb ayodhya say vajpaye fissur h...   \n",
       "2    2001-01-03  powerless north india grope dark think laxman ...   \n",
       "3    2001-01-04  string pull stephen hawk india vajpaye give bi...   \n",
       "4    2001-01-05  light combat craft take india club class hawk ...   \n",
       "...         ...                                                ...   \n",
       "3644 2011-02-03  well deepika akshay arshad upset wife maria pa...   \n",
       "3645 2011-02-04  abhishek bachchan wish star happi birthday per...   \n",
       "3646 2011-02-05  abhishek bachchan labour clash list lgt bank a...   \n",
       "3647 2011-02-06  akki urmila meet year melodi today music lesli...   \n",
       "3648 2011-02-07  venki nagav lata apolog dev anand actress priy...   \n",
       "\n",
       "      Subjectivity  Polarity  \n",
       "0         0.450000  0.400000  \n",
       "1         0.298148  0.099074  \n",
       "2         0.429167  0.025000  \n",
       "3         0.475140  0.032481  \n",
       "4         0.458412  0.296404  \n",
       "...            ...       ...  \n",
       "3644      0.349123  0.065558  \n",
       "3645      0.362757  0.060614  \n",
       "3646      0.378588  0.043108  \n",
       "3647      0.395333  0.087425  \n",
       "3648      0.373551  0.106810  \n",
       "\n",
       "[3649 rows x 4 columns]"
      ]
     },
     "execution_count": 651,
     "metadata": {},
     "output_type": "execute_result"
    }
   ],
   "source": [
    "#Adding subjectivity and polarity columns\n",
    "df_news['Subjectivity'] = df_news['News'].apply(getSubjectivity)\n",
    "df_news['Polarity'] = df_news['News'].apply(getPolarity)\n",
    "df_news"
   ]
  },
  {
   "cell_type": "code",
   "execution_count": 652,
   "metadata": {},
   "outputs": [
    {
     "data": {
      "text/html": [
       "<div>\n",
       "<style scoped>\n",
       "    .dataframe tbody tr th:only-of-type {\n",
       "        vertical-align: middle;\n",
       "    }\n",
       "\n",
       "    .dataframe tbody tr th {\n",
       "        vertical-align: top;\n",
       "    }\n",
       "\n",
       "    .dataframe thead th {\n",
       "        text-align: right;\n",
       "    }\n",
       "</style>\n",
       "<table border=\"1\" class=\"dataframe\">\n",
       "  <thead>\n",
       "    <tr style=\"text-align: right;\">\n",
       "      <th></th>\n",
       "      <th>Date</th>\n",
       "      <th>News</th>\n",
       "      <th>Subjectivity</th>\n",
       "      <th>Polarity</th>\n",
       "      <th>Compound</th>\n",
       "      <th>Negative</th>\n",
       "      <th>Neutral</th>\n",
       "      <th>Positive</th>\n",
       "    </tr>\n",
       "  </thead>\n",
       "  <tbody>\n",
       "    <tr>\n",
       "      <th>0</th>\n",
       "      <td>2001-01-01</td>\n",
       "      <td>win cena satisfi defeat undertak bigger roman ...</td>\n",
       "      <td>0.450000</td>\n",
       "      <td>0.400000</td>\n",
       "      <td>0.2023</td>\n",
       "      <td>0.234</td>\n",
       "      <td>0.469</td>\n",
       "      <td>0.297</td>\n",
       "    </tr>\n",
       "    <tr>\n",
       "      <th>1</th>\n",
       "      <td>2001-01-02</td>\n",
       "      <td>statu quo disturb ayodhya say vajpaye fissur h...</td>\n",
       "      <td>0.298148</td>\n",
       "      <td>0.099074</td>\n",
       "      <td>-0.8555</td>\n",
       "      <td>0.125</td>\n",
       "      <td>0.773</td>\n",
       "      <td>0.102</td>\n",
       "    </tr>\n",
       "    <tr>\n",
       "      <th>2</th>\n",
       "      <td>2001-01-03</td>\n",
       "      <td>powerless north india grope dark think laxman ...</td>\n",
       "      <td>0.429167</td>\n",
       "      <td>0.025000</td>\n",
       "      <td>-0.5994</td>\n",
       "      <td>0.132</td>\n",
       "      <td>0.755</td>\n",
       "      <td>0.113</td>\n",
       "    </tr>\n",
       "    <tr>\n",
       "      <th>3</th>\n",
       "      <td>2001-01-04</td>\n",
       "      <td>string pull stephen hawk india vajpaye give bi...</td>\n",
       "      <td>0.475140</td>\n",
       "      <td>0.032481</td>\n",
       "      <td>0.9169</td>\n",
       "      <td>0.099</td>\n",
       "      <td>0.791</td>\n",
       "      <td>0.110</td>\n",
       "    </tr>\n",
       "    <tr>\n",
       "      <th>4</th>\n",
       "      <td>2001-01-05</td>\n",
       "      <td>light combat craft take india club class hawk ...</td>\n",
       "      <td>0.458412</td>\n",
       "      <td>0.296404</td>\n",
       "      <td>-0.3612</td>\n",
       "      <td>0.171</td>\n",
       "      <td>0.659</td>\n",
       "      <td>0.170</td>\n",
       "    </tr>\n",
       "    <tr>\n",
       "      <th>...</th>\n",
       "      <td>...</td>\n",
       "      <td>...</td>\n",
       "      <td>...</td>\n",
       "      <td>...</td>\n",
       "      <td>...</td>\n",
       "      <td>...</td>\n",
       "      <td>...</td>\n",
       "      <td>...</td>\n",
       "    </tr>\n",
       "    <tr>\n",
       "      <th>3644</th>\n",
       "      <td>2011-02-03</td>\n",
       "      <td>well deepika akshay arshad upset wife maria pa...</td>\n",
       "      <td>0.349123</td>\n",
       "      <td>0.065558</td>\n",
       "      <td>-0.9996</td>\n",
       "      <td>0.149</td>\n",
       "      <td>0.750</td>\n",
       "      <td>0.101</td>\n",
       "    </tr>\n",
       "    <tr>\n",
       "      <th>3645</th>\n",
       "      <td>2011-02-04</td>\n",
       "      <td>abhishek bachchan wish star happi birthday per...</td>\n",
       "      <td>0.362757</td>\n",
       "      <td>0.060614</td>\n",
       "      <td>-0.9998</td>\n",
       "      <td>0.148</td>\n",
       "      <td>0.764</td>\n",
       "      <td>0.087</td>\n",
       "    </tr>\n",
       "    <tr>\n",
       "      <th>3646</th>\n",
       "      <td>2011-02-05</td>\n",
       "      <td>abhishek bachchan labour clash list lgt bank a...</td>\n",
       "      <td>0.378588</td>\n",
       "      <td>0.043108</td>\n",
       "      <td>-0.9999</td>\n",
       "      <td>0.160</td>\n",
       "      <td>0.763</td>\n",
       "      <td>0.077</td>\n",
       "    </tr>\n",
       "    <tr>\n",
       "      <th>3647</th>\n",
       "      <td>2011-02-06</td>\n",
       "      <td>akki urmila meet year melodi today music lesli...</td>\n",
       "      <td>0.395333</td>\n",
       "      <td>0.087425</td>\n",
       "      <td>-0.9998</td>\n",
       "      <td>0.144</td>\n",
       "      <td>0.772</td>\n",
       "      <td>0.084</td>\n",
       "    </tr>\n",
       "    <tr>\n",
       "      <th>3648</th>\n",
       "      <td>2011-02-07</td>\n",
       "      <td>venki nagav lata apolog dev anand actress priy...</td>\n",
       "      <td>0.373551</td>\n",
       "      <td>0.106810</td>\n",
       "      <td>-0.9998</td>\n",
       "      <td>0.152</td>\n",
       "      <td>0.770</td>\n",
       "      <td>0.078</td>\n",
       "    </tr>\n",
       "  </tbody>\n",
       "</table>\n",
       "<p>3649 rows × 8 columns</p>\n",
       "</div>"
      ],
      "text/plain": [
       "           Date                                               News  \\\n",
       "0    2001-01-01  win cena satisfi defeat undertak bigger roman ...   \n",
       "1    2001-01-02  statu quo disturb ayodhya say vajpaye fissur h...   \n",
       "2    2001-01-03  powerless north india grope dark think laxman ...   \n",
       "3    2001-01-04  string pull stephen hawk india vajpaye give bi...   \n",
       "4    2001-01-05  light combat craft take india club class hawk ...   \n",
       "...         ...                                                ...   \n",
       "3644 2011-02-03  well deepika akshay arshad upset wife maria pa...   \n",
       "3645 2011-02-04  abhishek bachchan wish star happi birthday per...   \n",
       "3646 2011-02-05  abhishek bachchan labour clash list lgt bank a...   \n",
       "3647 2011-02-06  akki urmila meet year melodi today music lesli...   \n",
       "3648 2011-02-07  venki nagav lata apolog dev anand actress priy...   \n",
       "\n",
       "      Subjectivity  Polarity  Compound  Negative  Neutral  Positive  \n",
       "0         0.450000  0.400000    0.2023     0.234    0.469     0.297  \n",
       "1         0.298148  0.099074   -0.8555     0.125    0.773     0.102  \n",
       "2         0.429167  0.025000   -0.5994     0.132    0.755     0.113  \n",
       "3         0.475140  0.032481    0.9169     0.099    0.791     0.110  \n",
       "4         0.458412  0.296404   -0.3612     0.171    0.659     0.170  \n",
       "...            ...       ...       ...       ...      ...       ...  \n",
       "3644      0.349123  0.065558   -0.9996     0.149    0.750     0.101  \n",
       "3645      0.362757  0.060614   -0.9998     0.148    0.764     0.087  \n",
       "3646      0.378588  0.043108   -0.9999     0.160    0.763     0.077  \n",
       "3647      0.395333  0.087425   -0.9998     0.144    0.772     0.084  \n",
       "3648      0.373551  0.106810   -0.9998     0.152    0.770     0.078  \n",
       "\n",
       "[3649 rows x 8 columns]"
      ]
     },
     "execution_count": 652,
     "metadata": {},
     "output_type": "execute_result"
    }
   ],
   "source": [
    "#Adding sentiment score to df_news\n",
    "sia = SentimentIntensityAnalyzer()\n",
    "\n",
    "df_news['Compound'] = [sia.polarity_scores(v)['compound'] for v in df_news['News']]\n",
    "df_news['Negative'] = [sia.polarity_scores(v)['neg'] for v in df_news['News']]\n",
    "df_news['Neutral'] = [sia.polarity_scores(v)['neu'] for v in df_news['News']]\n",
    "df_news['Positive'] = [sia.polarity_scores(v)['pos'] for v in df_news['News']]\n",
    "df_news"
   ]
  },
  {
   "cell_type": "code",
   "execution_count": null,
   "metadata": {},
   "outputs": [],
   "source": [
    "#df_merge = pd.merge(data_stock, df_news, how='inner', on='Date')\n",
    "#df_merge"
   ]
  },
  {
   "cell_type": "code",
   "execution_count": 654,
   "metadata": {},
   "outputs": [
    {
     "data": {
      "text/html": [
       "<div>\n",
       "<style scoped>\n",
       "    .dataframe tbody tr th:only-of-type {\n",
       "        vertical-align: middle;\n",
       "    }\n",
       "\n",
       "    .dataframe tbody tr th {\n",
       "        vertical-align: top;\n",
       "    }\n",
       "\n",
       "    .dataframe thead th {\n",
       "        text-align: right;\n",
       "    }\n",
       "</style>\n",
       "<table border=\"1\" class=\"dataframe\">\n",
       "  <thead>\n",
       "    <tr style=\"text-align: right;\">\n",
       "      <th></th>\n",
       "      <th>Close</th>\n",
       "      <th>Subjectivity</th>\n",
       "      <th>Polarity</th>\n",
       "      <th>Compound</th>\n",
       "      <th>Negative</th>\n",
       "      <th>Neutral</th>\n",
       "      <th>Positive</th>\n",
       "    </tr>\n",
       "  </thead>\n",
       "  <tbody>\n",
       "    <tr>\n",
       "      <th>0</th>\n",
       "      <td>6679.200195</td>\n",
       "      <td>0.494037</td>\n",
       "      <td>0.113849</td>\n",
       "      <td>-0.7650</td>\n",
       "      <td>0.117</td>\n",
       "      <td>0.773</td>\n",
       "      <td>0.111</td>\n",
       "    </tr>\n",
       "    <tr>\n",
       "      <th>1</th>\n",
       "      <td>6651.009766</td>\n",
       "      <td>0.424917</td>\n",
       "      <td>0.049857</td>\n",
       "      <td>-0.9955</td>\n",
       "      <td>0.177</td>\n",
       "      <td>0.737</td>\n",
       "      <td>0.087</td>\n",
       "    </tr>\n",
       "    <tr>\n",
       "      <th>2</th>\n",
       "      <td>6458.839844</td>\n",
       "      <td>0.434571</td>\n",
       "      <td>0.106612</td>\n",
       "      <td>-0.9794</td>\n",
       "      <td>0.140</td>\n",
       "      <td>0.774</td>\n",
       "      <td>0.087</td>\n",
       "    </tr>\n",
       "    <tr>\n",
       "      <th>3</th>\n",
       "      <td>6367.390137</td>\n",
       "      <td>0.443313</td>\n",
       "      <td>0.041705</td>\n",
       "      <td>-0.9761</td>\n",
       "      <td>0.162</td>\n",
       "      <td>0.711</td>\n",
       "      <td>0.127</td>\n",
       "    </tr>\n",
       "    <tr>\n",
       "      <th>4</th>\n",
       "      <td>6420.459961</td>\n",
       "      <td>0.415661</td>\n",
       "      <td>0.150971</td>\n",
       "      <td>0.9850</td>\n",
       "      <td>0.060</td>\n",
       "      <td>0.797</td>\n",
       "      <td>0.144</td>\n",
       "    </tr>\n",
       "    <tr>\n",
       "      <th>...</th>\n",
       "      <td>...</td>\n",
       "      <td>...</td>\n",
       "      <td>...</td>\n",
       "      <td>...</td>\n",
       "      <td>...</td>\n",
       "      <td>...</td>\n",
       "      <td>...</td>\n",
       "    </tr>\n",
       "    <tr>\n",
       "      <th>1491</th>\n",
       "      <td>18494.179690</td>\n",
       "      <td>0.395333</td>\n",
       "      <td>0.087425</td>\n",
       "      <td>-0.9998</td>\n",
       "      <td>0.144</td>\n",
       "      <td>0.772</td>\n",
       "      <td>0.084</td>\n",
       "    </tr>\n",
       "    <tr>\n",
       "      <th>1492</th>\n",
       "      <td>18762.800780</td>\n",
       "      <td>0.387988</td>\n",
       "      <td>0.032372</td>\n",
       "      <td>-0.9995</td>\n",
       "      <td>0.130</td>\n",
       "      <td>0.783</td>\n",
       "      <td>0.087</td>\n",
       "    </tr>\n",
       "    <tr>\n",
       "      <th>1493</th>\n",
       "      <td>18314.330080</td>\n",
       "      <td>0.452911</td>\n",
       "      <td>0.135909</td>\n",
       "      <td>-0.9993</td>\n",
       "      <td>0.144</td>\n",
       "      <td>0.748</td>\n",
       "      <td>0.108</td>\n",
       "    </tr>\n",
       "    <tr>\n",
       "      <th>1494</th>\n",
       "      <td>17480.830080</td>\n",
       "      <td>0.396759</td>\n",
       "      <td>0.078003</td>\n",
       "      <td>-0.9990</td>\n",
       "      <td>0.129</td>\n",
       "      <td>0.769</td>\n",
       "      <td>0.103</td>\n",
       "    </tr>\n",
       "    <tr>\n",
       "      <th>1495</th>\n",
       "      <td>16483.449220</td>\n",
       "      <td>0.370636</td>\n",
       "      <td>0.078213</td>\n",
       "      <td>-0.9998</td>\n",
       "      <td>0.147</td>\n",
       "      <td>0.765</td>\n",
       "      <td>0.089</td>\n",
       "    </tr>\n",
       "  </tbody>\n",
       "</table>\n",
       "<p>1496 rows × 7 columns</p>\n",
       "</div>"
      ],
      "text/plain": [
       "             Close  Subjectivity  Polarity  Compound  Negative  Neutral  \\\n",
       "0      6679.200195      0.494037  0.113849   -0.7650     0.117    0.773   \n",
       "1      6651.009766      0.424917  0.049857   -0.9955     0.177    0.737   \n",
       "2      6458.839844      0.434571  0.106612   -0.9794     0.140    0.774   \n",
       "3      6367.390137      0.443313  0.041705   -0.9761     0.162    0.711   \n",
       "4      6420.459961      0.415661  0.150971    0.9850     0.060    0.797   \n",
       "...            ...           ...       ...       ...       ...      ...   \n",
       "1491  18494.179690      0.395333  0.087425   -0.9998     0.144    0.772   \n",
       "1492  18762.800780      0.387988  0.032372   -0.9995     0.130    0.783   \n",
       "1493  18314.330080      0.452911  0.135909   -0.9993     0.144    0.748   \n",
       "1494  17480.830080      0.396759  0.078003   -0.9990     0.129    0.769   \n",
       "1495  16483.449220      0.370636  0.078213   -0.9998     0.147    0.765   \n",
       "\n",
       "      Positive  \n",
       "0        0.111  \n",
       "1        0.087  \n",
       "2        0.087  \n",
       "3        0.127  \n",
       "4        0.144  \n",
       "...        ...  \n",
       "1491     0.084  \n",
       "1492     0.087  \n",
       "1493     0.108  \n",
       "1494     0.103  \n",
       "1495     0.089  \n",
       "\n",
       "[1496 rows x 7 columns]"
      ]
     },
     "execution_count": 654,
     "metadata": {},
     "output_type": "execute_result"
    }
   ],
   "source": [
    "df = df_merge[['Close','Subjectivity', 'Polarity', 'Compound', 'Negative', 'Neutral' ,'Positive']]\n",
    "df"
   ]
  },
  {
   "cell_type": "code",
   "execution_count": 655,
   "metadata": {},
   "outputs": [
    {
     "data": {
      "text/html": [
       "<div>\n",
       "<style scoped>\n",
       "    .dataframe tbody tr th:only-of-type {\n",
       "        vertical-align: middle;\n",
       "    }\n",
       "\n",
       "    .dataframe tbody tr th {\n",
       "        vertical-align: top;\n",
       "    }\n",
       "\n",
       "    .dataframe thead th {\n",
       "        text-align: right;\n",
       "    }\n",
       "</style>\n",
       "<table border=\"1\" class=\"dataframe\">\n",
       "  <thead>\n",
       "    <tr style=\"text-align: right;\">\n",
       "      <th></th>\n",
       "      <th>Close</th>\n",
       "      <th>Subjectivity</th>\n",
       "      <th>Polarity</th>\n",
       "      <th>Compound</th>\n",
       "      <th>Negative</th>\n",
       "      <th>Neutral</th>\n",
       "      <th>Positive</th>\n",
       "    </tr>\n",
       "  </thead>\n",
       "  <tbody>\n",
       "    <tr>\n",
       "      <th>0</th>\n",
       "      <td>0.038872</td>\n",
       "      <td>0.805791</td>\n",
       "      <td>0.360564</td>\n",
       "      <td>0.117462</td>\n",
       "      <td>0.303030</td>\n",
       "      <td>0.726776</td>\n",
       "      <td>0.388298</td>\n",
       "    </tr>\n",
       "    <tr>\n",
       "      <th>1</th>\n",
       "      <td>0.036971</td>\n",
       "      <td>0.598795</td>\n",
       "      <td>0.247550</td>\n",
       "      <td>0.002200</td>\n",
       "      <td>0.606061</td>\n",
       "      <td>0.530055</td>\n",
       "      <td>0.260638</td>\n",
       "    </tr>\n",
       "    <tr>\n",
       "      <th>2</th>\n",
       "      <td>0.024013</td>\n",
       "      <td>0.627706</td>\n",
       "      <td>0.347782</td>\n",
       "      <td>0.010251</td>\n",
       "      <td>0.419192</td>\n",
       "      <td>0.732240</td>\n",
       "      <td>0.260638</td>\n",
       "    </tr>\n",
       "    <tr>\n",
       "      <th>3</th>\n",
       "      <td>0.017846</td>\n",
       "      <td>0.653885</td>\n",
       "      <td>0.233153</td>\n",
       "      <td>0.011901</td>\n",
       "      <td>0.530303</td>\n",
       "      <td>0.387978</td>\n",
       "      <td>0.473404</td>\n",
       "    </tr>\n",
       "    <tr>\n",
       "      <th>4</th>\n",
       "      <td>0.021424</td>\n",
       "      <td>0.571075</td>\n",
       "      <td>0.426124</td>\n",
       "      <td>0.992549</td>\n",
       "      <td>0.015152</td>\n",
       "      <td>0.857923</td>\n",
       "      <td>0.563830</td>\n",
       "    </tr>\n",
       "  </tbody>\n",
       "</table>\n",
       "</div>"
      ],
      "text/plain": [
       "      Close  Subjectivity  Polarity  Compound  Negative   Neutral  Positive\n",
       "0  0.038872      0.805791  0.360564  0.117462  0.303030  0.726776  0.388298\n",
       "1  0.036971      0.598795  0.247550  0.002200  0.606061  0.530055  0.260638\n",
       "2  0.024013      0.627706  0.347782  0.010251  0.419192  0.732240  0.260638\n",
       "3  0.017846      0.653885  0.233153  0.011901  0.530303  0.387978  0.473404\n",
       "4  0.021424      0.571075  0.426124  0.992549  0.015152  0.857923  0.563830"
      ]
     },
     "execution_count": 655,
     "metadata": {},
     "output_type": "execute_result"
    }
   ],
   "source": [
    "from sklearn.preprocessing import MinMaxScaler\n",
    "sc = MinMaxScaler()\n",
    "new_df = pd.DataFrame(sc.fit_transform(df))\n",
    "new_df.columns = df.columns\n",
    "new_df.index = df.index\n",
    "new_df.head()"
   ]
  },
  {
   "cell_type": "code",
   "execution_count": 656,
   "metadata": {},
   "outputs": [],
   "source": [
    "X = new_df.drop('Close', axis=1)\n",
    "y =new_df['Close']"
   ]
  },
  {
   "cell_type": "code",
   "execution_count": 657,
   "metadata": {},
   "outputs": [
    {
     "data": {
      "text/html": [
       "<div>\n",
       "<style scoped>\n",
       "    .dataframe tbody tr th:only-of-type {\n",
       "        vertical-align: middle;\n",
       "    }\n",
       "\n",
       "    .dataframe tbody tr th {\n",
       "        vertical-align: top;\n",
       "    }\n",
       "\n",
       "    .dataframe thead th {\n",
       "        text-align: right;\n",
       "    }\n",
       "</style>\n",
       "<table border=\"1\" class=\"dataframe\">\n",
       "  <thead>\n",
       "    <tr style=\"text-align: right;\">\n",
       "      <th></th>\n",
       "      <th>Subjectivity</th>\n",
       "      <th>Polarity</th>\n",
       "      <th>Compound</th>\n",
       "      <th>Negative</th>\n",
       "      <th>Neutral</th>\n",
       "      <th>Positive</th>\n",
       "    </tr>\n",
       "  </thead>\n",
       "  <tbody>\n",
       "    <tr>\n",
       "      <th>0</th>\n",
       "      <td>0.805791</td>\n",
       "      <td>0.360564</td>\n",
       "      <td>0.117462</td>\n",
       "      <td>0.303030</td>\n",
       "      <td>0.726776</td>\n",
       "      <td>0.388298</td>\n",
       "    </tr>\n",
       "    <tr>\n",
       "      <th>1</th>\n",
       "      <td>0.598795</td>\n",
       "      <td>0.247550</td>\n",
       "      <td>0.002200</td>\n",
       "      <td>0.606061</td>\n",
       "      <td>0.530055</td>\n",
       "      <td>0.260638</td>\n",
       "    </tr>\n",
       "    <tr>\n",
       "      <th>2</th>\n",
       "      <td>0.627706</td>\n",
       "      <td>0.347782</td>\n",
       "      <td>0.010251</td>\n",
       "      <td>0.419192</td>\n",
       "      <td>0.732240</td>\n",
       "      <td>0.260638</td>\n",
       "    </tr>\n",
       "    <tr>\n",
       "      <th>3</th>\n",
       "      <td>0.653885</td>\n",
       "      <td>0.233153</td>\n",
       "      <td>0.011901</td>\n",
       "      <td>0.530303</td>\n",
       "      <td>0.387978</td>\n",
       "      <td>0.473404</td>\n",
       "    </tr>\n",
       "    <tr>\n",
       "      <th>4</th>\n",
       "      <td>0.571075</td>\n",
       "      <td>0.426124</td>\n",
       "      <td>0.992549</td>\n",
       "      <td>0.015152</td>\n",
       "      <td>0.857923</td>\n",
       "      <td>0.563830</td>\n",
       "    </tr>\n",
       "  </tbody>\n",
       "</table>\n",
       "</div>"
      ],
      "text/plain": [
       "   Subjectivity  Polarity  Compound  Negative   Neutral  Positive\n",
       "0      0.805791  0.360564  0.117462  0.303030  0.726776  0.388298\n",
       "1      0.598795  0.247550  0.002200  0.606061  0.530055  0.260638\n",
       "2      0.627706  0.347782  0.010251  0.419192  0.732240  0.260638\n",
       "3      0.653885  0.233153  0.011901  0.530303  0.387978  0.473404\n",
       "4      0.571075  0.426124  0.992549  0.015152  0.857923  0.563830"
      ]
     },
     "execution_count": 657,
     "metadata": {},
     "output_type": "execute_result"
    }
   ],
   "source": [
    "X.head()"
   ]
  },
  {
   "cell_type": "code",
   "execution_count": 658,
   "metadata": {},
   "outputs": [
    {
     "data": {
      "text/plain": [
       "(897, 6)"
      ]
     },
     "execution_count": 658,
     "metadata": {},
     "output_type": "execute_result"
    }
   ],
   "source": [
    "x_train, x_test, y_train, y_test = train_test_split(X, y, test_size=0.4, random_state = 0)\n",
    "x_train.shape"
   ]
  },
  {
   "cell_type": "code",
   "execution_count": 659,
   "metadata": {},
   "outputs": [
    {
     "data": {
      "text/html": [
       "<div>\n",
       "<style scoped>\n",
       "    .dataframe tbody tr th:only-of-type {\n",
       "        vertical-align: middle;\n",
       "    }\n",
       "\n",
       "    .dataframe tbody tr th {\n",
       "        vertical-align: top;\n",
       "    }\n",
       "\n",
       "    .dataframe thead th {\n",
       "        text-align: right;\n",
       "    }\n",
       "</style>\n",
       "<table border=\"1\" class=\"dataframe\">\n",
       "  <thead>\n",
       "    <tr style=\"text-align: right;\">\n",
       "      <th></th>\n",
       "      <th>Subjectivity</th>\n",
       "      <th>Polarity</th>\n",
       "      <th>Compound</th>\n",
       "      <th>Negative</th>\n",
       "      <th>Neutral</th>\n",
       "      <th>Positive</th>\n",
       "    </tr>\n",
       "  </thead>\n",
       "  <tbody>\n",
       "    <tr>\n",
       "      <th>386</th>\n",
       "      <td>0.328148</td>\n",
       "      <td>0.247865</td>\n",
       "      <td>0.001650</td>\n",
       "      <td>0.621212</td>\n",
       "      <td>0.459016</td>\n",
       "      <td>0.303191</td>\n",
       "    </tr>\n",
       "    <tr>\n",
       "      <th>1301</th>\n",
       "      <td>0.422348</td>\n",
       "      <td>0.326755</td>\n",
       "      <td>0.000650</td>\n",
       "      <td>0.404040</td>\n",
       "      <td>0.721311</td>\n",
       "      <td>0.281915</td>\n",
       "    </tr>\n",
       "    <tr>\n",
       "      <th>132</th>\n",
       "      <td>0.455253</td>\n",
       "      <td>0.359966</td>\n",
       "      <td>0.001250</td>\n",
       "      <td>0.595960</td>\n",
       "      <td>0.409836</td>\n",
       "      <td>0.382979</td>\n",
       "    </tr>\n",
       "    <tr>\n",
       "      <th>265</th>\n",
       "      <td>0.734180</td>\n",
       "      <td>0.165398</td>\n",
       "      <td>0.010551</td>\n",
       "      <td>0.383838</td>\n",
       "      <td>0.721311</td>\n",
       "      <td>0.303191</td>\n",
       "    </tr>\n",
       "    <tr>\n",
       "      <th>1464</th>\n",
       "      <td>0.541714</td>\n",
       "      <td>0.236327</td>\n",
       "      <td>0.000050</td>\n",
       "      <td>0.469697</td>\n",
       "      <td>0.704918</td>\n",
       "      <td>0.228723</td>\n",
       "    </tr>\n",
       "    <tr>\n",
       "      <th>1238</th>\n",
       "      <td>0.382896</td>\n",
       "      <td>0.318002</td>\n",
       "      <td>0.000550</td>\n",
       "      <td>0.343434</td>\n",
       "      <td>0.879781</td>\n",
       "      <td>0.191489</td>\n",
       "    </tr>\n",
       "    <tr>\n",
       "      <th>88</th>\n",
       "      <td>0.611045</td>\n",
       "      <td>0.293402</td>\n",
       "      <td>0.011901</td>\n",
       "      <td>0.469697</td>\n",
       "      <td>0.519126</td>\n",
       "      <td>0.409574</td>\n",
       "    </tr>\n",
       "    <tr>\n",
       "      <th>793</th>\n",
       "      <td>0.326127</td>\n",
       "      <td>0.318566</td>\n",
       "      <td>0.000500</td>\n",
       "      <td>0.590909</td>\n",
       "      <td>0.420765</td>\n",
       "      <td>0.377660</td>\n",
       "    </tr>\n",
       "    <tr>\n",
       "      <th>1424</th>\n",
       "      <td>0.464521</td>\n",
       "      <td>0.280357</td>\n",
       "      <td>0.000050</td>\n",
       "      <td>0.454545</td>\n",
       "      <td>0.765027</td>\n",
       "      <td>0.186170</td>\n",
       "    </tr>\n",
       "    <tr>\n",
       "      <th>748</th>\n",
       "      <td>0.496327</td>\n",
       "      <td>0.281459</td>\n",
       "      <td>0.000350</td>\n",
       "      <td>0.555556</td>\n",
       "      <td>0.475410</td>\n",
       "      <td>0.361702</td>\n",
       "    </tr>\n",
       "  </tbody>\n",
       "</table>\n",
       "</div>"
      ],
      "text/plain": [
       "      Subjectivity  Polarity  Compound  Negative   Neutral  Positive\n",
       "386       0.328148  0.247865  0.001650  0.621212  0.459016  0.303191\n",
       "1301      0.422348  0.326755  0.000650  0.404040  0.721311  0.281915\n",
       "132       0.455253  0.359966  0.001250  0.595960  0.409836  0.382979\n",
       "265       0.734180  0.165398  0.010551  0.383838  0.721311  0.303191\n",
       "1464      0.541714  0.236327  0.000050  0.469697  0.704918  0.228723\n",
       "1238      0.382896  0.318002  0.000550  0.343434  0.879781  0.191489\n",
       "88        0.611045  0.293402  0.011901  0.469697  0.519126  0.409574\n",
       "793       0.326127  0.318566  0.000500  0.590909  0.420765  0.377660\n",
       "1424      0.464521  0.280357  0.000050  0.454545  0.765027  0.186170\n",
       "748       0.496327  0.281459  0.000350  0.555556  0.475410  0.361702"
      ]
     },
     "execution_count": 659,
     "metadata": {},
     "output_type": "execute_result"
    }
   ],
   "source": [
    "x_train[:10]"
   ]
  },
  {
   "cell_type": "code",
   "execution_count": 660,
   "metadata": {},
   "outputs": [],
   "source": [
    "rf = RandomForestRegressor()\n",
    "rf.fit(x_train, y_train)\n",
    "prediction=rf.predict(x_test)"
   ]
  },
  {
   "cell_type": "code",
   "execution_count": 661,
   "metadata": {},
   "outputs": [
    {
     "name": "stdout",
     "output_type": "stream",
     "text": [
      "[0.48068109 0.3328426  0.58084115 0.19787664 0.50324516 0.61899319\n",
      " 0.50399677 0.56495972 0.62423444 0.33330875]\n",
      "1127    0.662283\n",
      "353     0.215315\n",
      "733     0.939200\n",
      "54      0.029179\n",
      "794     0.651244\n",
      "1427    0.952050\n",
      "489     0.491048\n",
      "445     0.455554\n",
      "1079    0.539922\n",
      "360     0.262655\n",
      "Name: Close, dtype: float64\n",
      "0.04741626762149205\n"
     ]
    }
   ],
   "source": [
    "print(prediction[:10])\n",
    "print(y_test[:10])\n",
    "print(mean_squared_error(prediction,y_test))"
   ]
  },
  {
   "cell_type": "code",
   "execution_count": 662,
   "metadata": {},
   "outputs": [],
   "source": [
    "from sklearn.tree import DecisionTreeRegressor\n",
    "dec_tree = DecisionTreeRegressor()\n",
    "dec_tree.fit(x_train, y_train)\n",
    "predictions = dec_tree.predict(x_test)"
   ]
  },
  {
   "cell_type": "code",
   "execution_count": 663,
   "metadata": {},
   "outputs": [
    {
     "name": "stdout",
     "output_type": "stream",
     "text": [
      "[0.66090772 0.30894402 0.64695403 0.07535599 0.23952949 0.4065034\n",
      " 0.47585524 0.87364509 0.63492346 0.45729726]\n",
      "1127    0.662283\n",
      "353     0.215315\n",
      "733     0.939200\n",
      "54      0.029179\n",
      "794     0.651244\n",
      "1427    0.952050\n",
      "489     0.491048\n",
      "445     0.455554\n",
      "1079    0.539922\n",
      "360     0.262655\n",
      "Name: Close, dtype: float64\n",
      "0.09115863789587278\n"
     ]
    }
   ],
   "source": [
    "print(predictions[:10])\n",
    "print(y_test[:10])\n",
    "print(mean_squared_error(predictions,y_test))"
   ]
  },
  {
   "cell_type": "code",
   "execution_count": 664,
   "metadata": {},
   "outputs": [
    {
     "data": {
      "text/plain": [
       "XGBRegressor(base_score=0.5, booster='gbtree', colsample_bylevel=1,\n",
       "             colsample_bynode=1, colsample_bytree=1, gamma=0, gpu_id=-1,\n",
       "             importance_type='gain', interaction_constraints='',\n",
       "             learning_rate=0.300000012, max_delta_step=0, max_depth=6,\n",
       "             min_child_weight=1, missing=nan, monotone_constraints='()',\n",
       "             n_estimators=100, n_jobs=8, num_parallel_tree=1, random_state=0,\n",
       "             reg_alpha=0, reg_lambda=1, scale_pos_weight=1, subsample=1,\n",
       "             tree_method='exact', validate_parameters=1, verbosity=None)"
      ]
     },
     "execution_count": 664,
     "metadata": {},
     "output_type": "execute_result"
    }
   ],
   "source": [
    "xgb = xgboost.XGBRegressor()\n",
    "xgb.fit(x_train, y_train)"
   ]
  },
  {
   "cell_type": "code",
   "execution_count": 665,
   "metadata": {},
   "outputs": [
    {
     "name": "stdout",
     "output_type": "stream",
     "text": [
      "0.055330683848689124\n"
     ]
    }
   ],
   "source": [
    "predictions = xgb.predict(x_test)\n",
    "print(mean_squared_error(predictions,y_test))"
   ]
  },
  {
   "cell_type": "markdown",
   "metadata": {},
   "source": [
    "**REFERENCE :** \n",
    "https://www.analyticsvidhya.com/blog/2018/10/predicting-stock-price-machine-learningnd-deep-learning-techniques-python/ \n",
    "\n",
    "https://jfin-swufe.springeropen.com/articles/10.1186/s40854-019-0131-7#:~:text=Support%20Vector%20Machines%20(SVM)%20and,learning%20patterns%20and%20then%20predicting\n",
    "\n",
    "https://www.analyticsvidhya.com/blog/2017/12/fundamentals-of-deep-learning-introduction-to-lstm/\n",
    "\n",
    "https://machinelearningmastery.com/arima-for-time-series-forecasting-with-python/\n",
    "\n",
    "https://keras.io/guides/sequential_model/\n",
    "\n",
    "https://github.com/krishnaik06/Stock-MArket-Forecasting"
   ]
  },
  {
   "cell_type": "code",
   "execution_count": null,
   "metadata": {},
   "outputs": [],
   "source": []
  },
  {
   "cell_type": "code",
   "execution_count": null,
   "metadata": {},
   "outputs": [],
   "source": []
  }
 ],
 "metadata": {
  "kernelspec": {
   "display_name": "Python 3",
   "language": "python",
   "name": "python3"
  },
  "language_info": {
   "codemirror_mode": {
    "name": "ipython",
    "version": 3
   },
   "file_extension": ".py",
   "mimetype": "text/x-python",
   "name": "python",
   "nbconvert_exporter": "python",
   "pygments_lexer": "ipython3",
   "version": "3.8.5"
  }
 },
 "nbformat": 4,
 "nbformat_minor": 2
}
